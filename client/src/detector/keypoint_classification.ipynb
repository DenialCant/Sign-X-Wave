{
  "cells": [
    {
      "cell_type": "code",
      "execution_count": 28,
      "metadata": {
        "id": "igMyGnjE9hEp"
      },
      "outputs": [],
      "source": [
        "import csv\n",
        "import pandas as pd\n",
        "import numpy as np\n",
        "import tensorflow as tf\n",
        "from sklearn.model_selection import train_test_split\n",
        "from sklearn.preprocessing import LabelEncoder\n",
        "import matplotlib.pyplot as plt\n",
        "import seaborn as sns\n",
        "from sklearn.metrics import confusion_matrix, classification_report\n",
        "\n",
        "RANDOM_SEED = 42"
      ]
    },
    {
      "cell_type": "markdown",
      "metadata": {
        "id": "t2HDvhIu9hEr"
      },
      "source": [
        "# Specify each path"
      ]
    },
    {
      "cell_type": "code",
      "execution_count": 29,
      "metadata": {
        "id": "9NvZP2Zn9hEy"
      },
      "outputs": [],
      "source": [
        "#dataset = 'model/keypoint_classifier/keypoint.csv'\n",
        "dataset = pd.read_csv('hand_landmarks_data.csv', header=None)\n",
        "y_dataset = dataset.iloc[:, 0]\n",
        "X_dataset = dataset.iloc[:, 1:]\n",
        "\n",
        "\n",
        "model_save_path = 'model/keypoint_classifier/keypoint_classifier.keras'\n",
        "tflite_save_path = 'model/keypoint_classifier/keypoint_classifier.tflite'"
      ]
    },
    {
      "cell_type": "code",
      "execution_count": 30,
      "metadata": {},
      "outputs": [],
      "source": [
        "from sklearn.preprocessing import LabelEncoder\n",
        "\n",
        "encoder = LabelEncoder()\n",
        "y_dataset_encoded = encoder.fit_transform(y_dataset)\n"
      ]
    },
    {
      "cell_type": "code",
      "execution_count": 31,
      "metadata": {},
      "outputs": [],
      "source": [
        "\n",
        "X_train, X_test, y_train, y_test = train_test_split(\n",
        "    X_dataset, y_dataset_encoded, test_size=0.25, random_state=42\n",
        ")\n"
      ]
    },
    {
      "cell_type": "markdown",
      "metadata": {
        "id": "s5oMH7x19hEz"
      },
      "source": [
        "# Set number of classes"
      ]
    },
    {
      "cell_type": "code",
      "execution_count": 32,
      "metadata": {
        "id": "du4kodXL9hEz"
      },
      "outputs": [],
      "source": [
        "NUM_CLASSES = 26"
      ]
    },
    {
      "cell_type": "markdown",
      "metadata": {
        "id": "XjnL0uso9hEz"
      },
      "source": [
        "# Dataset reading"
      ]
    },
    {
      "cell_type": "code",
      "execution_count": 33,
      "metadata": {
        "id": "QT5ZqtEz9hE0"
      },
      "outputs": [],
      "source": [
        "#X_dataset = np.loadtxt(dataset, delimiter=',', dtype='float32', usecols=list(range(1, (21 * 2) + 1)))"
      ]
    },
    {
      "cell_type": "code",
      "execution_count": 34,
      "metadata": {
        "id": "QmoKFsp49hE0"
      },
      "outputs": [],
      "source": [
        "#y_dataset = np.loadtxt(dataset, delimiter=',', dtype='int32', usecols=(0))"
      ]
    },
    {
      "cell_type": "code",
      "execution_count": 35,
      "metadata": {
        "id": "xQU7JTZ_9hE0"
      },
      "outputs": [],
      "source": [
        "#X_train, X_test, y_train, y_test = train_test_split(X_dataset, y_dataset, train_size=0.75, random_state=RANDOM_SEED)"
      ]
    },
    {
      "cell_type": "markdown",
      "metadata": {
        "id": "mxK_lETT9hE0"
      },
      "source": [
        "# Model building"
      ]
    },
    {
      "cell_type": "code",
      "execution_count": 36,
      "metadata": {
        "id": "vHBmUf1t9hE1"
      },
      "outputs": [],
      "source": [
        "#model = tf.keras.models.Sequential([\n",
        "    #tf.keras.layers.Input((21 * 2, )),\n",
        "  #  tf.keras.layers.BatchNormalization(),\n",
        "   # tf.keras.layers.Dense(128, activation='mish', kernel_regularizer=tf.keras.regularizers.l2(0.01)),\n",
        "  #  tf.keras.layers.Dropout(0.5),\n",
        "   # tf.keras.layers.Dense(64, activation='mish', kernel_regularizer=tf.keras.regularizers.l2(0.01)),\n",
        "   # tf.keras.layers.Dropout(0.5),\n",
        "  #  tf.keras.layers.Dense(32, activation='mish', kernel_regularizer=tf.keras.regularizers.l2(0.01)),\n",
        "   # tf.keras.layers.Dense(NUM_CLASSES, activation='softmax')\n",
        "#])\n"
      ]
    },
    {
      "cell_type": "code",
      "execution_count": 37,
      "metadata": {},
      "outputs": [
        {
          "data": {
            "text/html": [
              "<pre style=\"white-space:pre;overflow-x:auto;line-height:normal;font-family:Menlo,'DejaVu Sans Mono',consolas,'Courier New',monospace\"><span style=\"font-weight: bold\">Model: \"sequential_1\"</span>\n",
              "</pre>\n"
            ],
            "text/plain": [
              "\u001b[1mModel: \"sequential_1\"\u001b[0m\n"
            ]
          },
          "metadata": {},
          "output_type": "display_data"
        },
        {
          "data": {
            "text/html": [
              "<pre style=\"white-space:pre;overflow-x:auto;line-height:normal;font-family:Menlo,'DejaVu Sans Mono',consolas,'Courier New',monospace\">┏━━━━━━━━━━━━━━━━━━━━━━━━━━━━━━━━━┳━━━━━━━━━━━━━━━━━━━━━━━━┳━━━━━━━━━━━━━━━┓\n",
              "┃<span style=\"font-weight: bold\"> Layer (type)                    </span>┃<span style=\"font-weight: bold\"> Output Shape           </span>┃<span style=\"font-weight: bold\">       Param # </span>┃\n",
              "┡━━━━━━━━━━━━━━━━━━━━━━━━━━━━━━━━━╇━━━━━━━━━━━━━━━━━━━━━━━━╇━━━━━━━━━━━━━━━┩\n",
              "│ batch_normalization_1           │ (<span style=\"color: #00d7ff; text-decoration-color: #00d7ff\">None</span>, <span style=\"color: #00af00; text-decoration-color: #00af00\">42</span>)             │           <span style=\"color: #00af00; text-decoration-color: #00af00\">168</span> │\n",
              "│ (<span style=\"color: #0087ff; text-decoration-color: #0087ff\">BatchNormalization</span>)            │                        │               │\n",
              "├─────────────────────────────────┼────────────────────────┼───────────────┤\n",
              "│ dense_4 (<span style=\"color: #0087ff; text-decoration-color: #0087ff\">Dense</span>)                 │ (<span style=\"color: #00d7ff; text-decoration-color: #00d7ff\">None</span>, <span style=\"color: #00af00; text-decoration-color: #00af00\">256</span>)            │        <span style=\"color: #00af00; text-decoration-color: #00af00\">11,008</span> │\n",
              "├─────────────────────────────────┼────────────────────────┼───────────────┤\n",
              "│ dropout_2 (<span style=\"color: #0087ff; text-decoration-color: #0087ff\">Dropout</span>)             │ (<span style=\"color: #00d7ff; text-decoration-color: #00d7ff\">None</span>, <span style=\"color: #00af00; text-decoration-color: #00af00\">256</span>)            │             <span style=\"color: #00af00; text-decoration-color: #00af00\">0</span> │\n",
              "├─────────────────────────────────┼────────────────────────┼───────────────┤\n",
              "│ dense_5 (<span style=\"color: #0087ff; text-decoration-color: #0087ff\">Dense</span>)                 │ (<span style=\"color: #00d7ff; text-decoration-color: #00d7ff\">None</span>, <span style=\"color: #00af00; text-decoration-color: #00af00\">128</span>)            │        <span style=\"color: #00af00; text-decoration-color: #00af00\">32,896</span> │\n",
              "├─────────────────────────────────┼────────────────────────┼───────────────┤\n",
              "│ dropout_3 (<span style=\"color: #0087ff; text-decoration-color: #0087ff\">Dropout</span>)             │ (<span style=\"color: #00d7ff; text-decoration-color: #00d7ff\">None</span>, <span style=\"color: #00af00; text-decoration-color: #00af00\">128</span>)            │             <span style=\"color: #00af00; text-decoration-color: #00af00\">0</span> │\n",
              "├─────────────────────────────────┼────────────────────────┼───────────────┤\n",
              "│ dense_6 (<span style=\"color: #0087ff; text-decoration-color: #0087ff\">Dense</span>)                 │ (<span style=\"color: #00d7ff; text-decoration-color: #00d7ff\">None</span>, <span style=\"color: #00af00; text-decoration-color: #00af00\">64</span>)             │         <span style=\"color: #00af00; text-decoration-color: #00af00\">8,256</span> │\n",
              "├─────────────────────────────────┼────────────────────────┼───────────────┤\n",
              "│ dense_7 (<span style=\"color: #0087ff; text-decoration-color: #0087ff\">Dense</span>)                 │ (<span style=\"color: #00d7ff; text-decoration-color: #00d7ff\">None</span>, <span style=\"color: #00af00; text-decoration-color: #00af00\">3</span>)              │           <span style=\"color: #00af00; text-decoration-color: #00af00\">195</span> │\n",
              "└─────────────────────────────────┴────────────────────────┴───────────────┘\n",
              "</pre>\n"
            ],
            "text/plain": [
              "┏━━━━━━━━━━━━━━━━━━━━━━━━━━━━━━━━━┳━━━━━━━━━━━━━━━━━━━━━━━━┳━━━━━━━━━━━━━━━┓\n",
              "┃\u001b[1m \u001b[0m\u001b[1mLayer (type)                   \u001b[0m\u001b[1m \u001b[0m┃\u001b[1m \u001b[0m\u001b[1mOutput Shape          \u001b[0m\u001b[1m \u001b[0m┃\u001b[1m \u001b[0m\u001b[1m      Param #\u001b[0m\u001b[1m \u001b[0m┃\n",
              "┡━━━━━━━━━━━━━━━━━━━━━━━━━━━━━━━━━╇━━━━━━━━━━━━━━━━━━━━━━━━╇━━━━━━━━━━━━━━━┩\n",
              "│ batch_normalization_1           │ (\u001b[38;5;45mNone\u001b[0m, \u001b[38;5;34m42\u001b[0m)             │           \u001b[38;5;34m168\u001b[0m │\n",
              "│ (\u001b[38;5;33mBatchNormalization\u001b[0m)            │                        │               │\n",
              "├─────────────────────────────────┼────────────────────────┼───────────────┤\n",
              "│ dense_4 (\u001b[38;5;33mDense\u001b[0m)                 │ (\u001b[38;5;45mNone\u001b[0m, \u001b[38;5;34m256\u001b[0m)            │        \u001b[38;5;34m11,008\u001b[0m │\n",
              "├─────────────────────────────────┼────────────────────────┼───────────────┤\n",
              "│ dropout_2 (\u001b[38;5;33mDropout\u001b[0m)             │ (\u001b[38;5;45mNone\u001b[0m, \u001b[38;5;34m256\u001b[0m)            │             \u001b[38;5;34m0\u001b[0m │\n",
              "├─────────────────────────────────┼────────────────────────┼───────────────┤\n",
              "│ dense_5 (\u001b[38;5;33mDense\u001b[0m)                 │ (\u001b[38;5;45mNone\u001b[0m, \u001b[38;5;34m128\u001b[0m)            │        \u001b[38;5;34m32,896\u001b[0m │\n",
              "├─────────────────────────────────┼────────────────────────┼───────────────┤\n",
              "│ dropout_3 (\u001b[38;5;33mDropout\u001b[0m)             │ (\u001b[38;5;45mNone\u001b[0m, \u001b[38;5;34m128\u001b[0m)            │             \u001b[38;5;34m0\u001b[0m │\n",
              "├─────────────────────────────────┼────────────────────────┼───────────────┤\n",
              "│ dense_6 (\u001b[38;5;33mDense\u001b[0m)                 │ (\u001b[38;5;45mNone\u001b[0m, \u001b[38;5;34m64\u001b[0m)             │         \u001b[38;5;34m8,256\u001b[0m │\n",
              "├─────────────────────────────────┼────────────────────────┼───────────────┤\n",
              "│ dense_7 (\u001b[38;5;33mDense\u001b[0m)                 │ (\u001b[38;5;45mNone\u001b[0m, \u001b[38;5;34m3\u001b[0m)              │           \u001b[38;5;34m195\u001b[0m │\n",
              "└─────────────────────────────────┴────────────────────────┴───────────────┘\n"
            ]
          },
          "metadata": {},
          "output_type": "display_data"
        },
        {
          "data": {
            "text/html": [
              "<pre style=\"white-space:pre;overflow-x:auto;line-height:normal;font-family:Menlo,'DejaVu Sans Mono',consolas,'Courier New',monospace\"><span style=\"font-weight: bold\"> Total params: </span><span style=\"color: #00af00; text-decoration-color: #00af00\">52,523</span> (205.17 KB)\n",
              "</pre>\n"
            ],
            "text/plain": [
              "\u001b[1m Total params: \u001b[0m\u001b[38;5;34m52,523\u001b[0m (205.17 KB)\n"
            ]
          },
          "metadata": {},
          "output_type": "display_data"
        },
        {
          "data": {
            "text/html": [
              "<pre style=\"white-space:pre;overflow-x:auto;line-height:normal;font-family:Menlo,'DejaVu Sans Mono',consolas,'Courier New',monospace\"><span style=\"font-weight: bold\"> Trainable params: </span><span style=\"color: #00af00; text-decoration-color: #00af00\">52,439</span> (204.84 KB)\n",
              "</pre>\n"
            ],
            "text/plain": [
              "\u001b[1m Trainable params: \u001b[0m\u001b[38;5;34m52,439\u001b[0m (204.84 KB)\n"
            ]
          },
          "metadata": {},
          "output_type": "display_data"
        },
        {
          "data": {
            "text/html": [
              "<pre style=\"white-space:pre;overflow-x:auto;line-height:normal;font-family:Menlo,'DejaVu Sans Mono',consolas,'Courier New',monospace\"><span style=\"font-weight: bold\"> Non-trainable params: </span><span style=\"color: #00af00; text-decoration-color: #00af00\">84</span> (336.00 B)\n",
              "</pre>\n"
            ],
            "text/plain": [
              "\u001b[1m Non-trainable params: \u001b[0m\u001b[38;5;34m84\u001b[0m (336.00 B)\n"
            ]
          },
          "metadata": {},
          "output_type": "display_data"
        }
      ],
      "source": [
        "import tensorflow as tf\n",
        "\n",
        "model = tf.keras.Sequential([\n",
        "    tf.keras.layers.Input((42,)),\n",
        "    tf.keras.layers.BatchNormalization(),\n",
        "    tf.keras.layers.Dense(256, activation='relu'),\n",
        "    tf.keras.layers.Dropout(0.3),\n",
        "    tf.keras.layers.Dense(128, activation='relu'),\n",
        "    tf.keras.layers.Dropout(0.3),\n",
        "    tf.keras.layers.Dense(64, activation='relu'),\n",
        "    tf.keras.layers.Dense(3, activation='softmax')  # 3 letters: A, B, C\n",
        "])\n",
        "\n",
        "model.compile(\n",
        "    optimizer='adam',\n",
        "    loss='sparse_categorical_crossentropy',\n",
        "    metrics=['accuracy']\n",
        ")\n",
        "\n",
        "model.summary()\n"
      ]
    },
    {
      "cell_type": "code",
      "execution_count": 38,
      "metadata": {},
      "outputs": [
        {
          "name": "stdout",
          "output_type": "stream",
          "text": [
            "Epoch 1/100\n",
            "30/30 - 1s - 31ms/step - accuracy: 0.7342 - loss: 0.7004 - val_accuracy: 0.7000 - val_loss: 0.8713\n",
            "Epoch 2/100\n",
            "30/30 - 0s - 3ms/step - accuracy: 0.8565 - loss: 0.3865 - val_accuracy: 0.7000 - val_loss: 0.7454\n",
            "Epoch 3/100\n",
            "30/30 - 0s - 3ms/step - accuracy: 0.8861 - loss: 0.3316 - val_accuracy: 0.7125 - val_loss: 0.6707\n",
            "Epoch 4/100\n",
            "30/30 - 0s - 3ms/step - accuracy: 0.9114 - loss: 0.2725 - val_accuracy: 0.8875 - val_loss: 0.5501\n",
            "Epoch 5/100\n",
            "30/30 - 0s - 3ms/step - accuracy: 0.9367 - loss: 0.1915 - val_accuracy: 0.8000 - val_loss: 0.4827\n",
            "Epoch 6/100\n",
            "30/30 - 0s - 3ms/step - accuracy: 0.9409 - loss: 0.1878 - val_accuracy: 0.9875 - val_loss: 0.2951\n",
            "Epoch 7/100\n",
            "30/30 - 0s - 3ms/step - accuracy: 0.9578 - loss: 0.1328 - val_accuracy: 1.0000 - val_loss: 0.2166\n",
            "Epoch 8/100\n",
            "30/30 - 0s - 3ms/step - accuracy: 0.9578 - loss: 0.1377 - val_accuracy: 1.0000 - val_loss: 0.1510\n",
            "Epoch 9/100\n",
            "30/30 - 0s - 3ms/step - accuracy: 0.9578 - loss: 0.0975 - val_accuracy: 1.0000 - val_loss: 0.0840\n",
            "Epoch 10/100\n",
            "30/30 - 0s - 3ms/step - accuracy: 0.9705 - loss: 0.0933 - val_accuracy: 1.0000 - val_loss: 0.0508\n",
            "Epoch 11/100\n",
            "30/30 - 0s - 3ms/step - accuracy: 0.9789 - loss: 0.0802 - val_accuracy: 0.9875 - val_loss: 0.0487\n",
            "Epoch 12/100\n",
            "30/30 - 0s - 3ms/step - accuracy: 0.9705 - loss: 0.0735 - val_accuracy: 1.0000 - val_loss: 0.0372\n",
            "Epoch 13/100\n",
            "30/30 - 0s - 3ms/step - accuracy: 0.9662 - loss: 0.0978 - val_accuracy: 1.0000 - val_loss: 0.0169\n",
            "Epoch 14/100\n",
            "30/30 - 0s - 3ms/step - accuracy: 0.9705 - loss: 0.1176 - val_accuracy: 1.0000 - val_loss: 0.0085\n",
            "Epoch 15/100\n",
            "30/30 - 0s - 3ms/step - accuracy: 0.9747 - loss: 0.1188 - val_accuracy: 1.0000 - val_loss: 0.0071\n",
            "Epoch 16/100\n",
            "30/30 - 0s - 3ms/step - accuracy: 0.9873 - loss: 0.0472 - val_accuracy: 1.0000 - val_loss: 0.0040\n",
            "Epoch 17/100\n",
            "30/30 - 0s - 3ms/step - accuracy: 0.9662 - loss: 0.0586 - val_accuracy: 1.0000 - val_loss: 0.0039\n",
            "Epoch 18/100\n",
            "30/30 - 0s - 3ms/step - accuracy: 0.9873 - loss: 0.0501 - val_accuracy: 1.0000 - val_loss: 8.4502e-04\n",
            "Epoch 19/100\n",
            "30/30 - 0s - 3ms/step - accuracy: 0.9662 - loss: 0.1143 - val_accuracy: 0.9875 - val_loss: 0.0128\n",
            "Epoch 20/100\n",
            "30/30 - 0s - 3ms/step - accuracy: 0.9789 - loss: 0.0808 - val_accuracy: 1.0000 - val_loss: 8.8516e-04\n",
            "Epoch 21/100\n",
            "30/30 - 0s - 3ms/step - accuracy: 0.9873 - loss: 0.0623 - val_accuracy: 0.9875 - val_loss: 0.0273\n",
            "Epoch 22/100\n",
            "30/30 - 0s - 3ms/step - accuracy: 0.9705 - loss: 0.1245 - val_accuracy: 1.0000 - val_loss: 7.1630e-04\n",
            "Epoch 23/100\n",
            "30/30 - 0s - 3ms/step - accuracy: 0.9831 - loss: 0.0526 - val_accuracy: 1.0000 - val_loss: 3.7148e-04\n",
            "Epoch 24/100\n",
            "30/30 - 0s - 3ms/step - accuracy: 0.9789 - loss: 0.0635 - val_accuracy: 0.9875 - val_loss: 0.0181\n",
            "Epoch 25/100\n",
            "30/30 - 0s - 3ms/step - accuracy: 0.9620 - loss: 0.1474 - val_accuracy: 1.0000 - val_loss: 0.0024\n",
            "Epoch 26/100\n",
            "30/30 - 0s - 5ms/step - accuracy: 0.9831 - loss: 0.0788 - val_accuracy: 1.0000 - val_loss: 0.0017\n",
            "Epoch 27/100\n",
            "30/30 - 0s - 3ms/step - accuracy: 0.9789 - loss: 0.0774 - val_accuracy: 1.0000 - val_loss: 9.1634e-04\n",
            "Epoch 28/100\n",
            "30/30 - 0s - 3ms/step - accuracy: 0.9620 - loss: 0.1116 - val_accuracy: 1.0000 - val_loss: 0.0038\n",
            "Epoch 29/100\n",
            "30/30 - 0s - 3ms/step - accuracy: 0.9747 - loss: 0.0781 - val_accuracy: 0.9875 - val_loss: 0.0170\n",
            "Epoch 30/100\n",
            "30/30 - 0s - 3ms/step - accuracy: 0.9831 - loss: 0.0715 - val_accuracy: 1.0000 - val_loss: 0.0059\n",
            "Epoch 31/100\n",
            "30/30 - 0s - 3ms/step - accuracy: 0.9831 - loss: 0.0482 - val_accuracy: 1.0000 - val_loss: 3.6969e-04\n",
            "Epoch 32/100\n",
            "30/30 - 0s - 3ms/step - accuracy: 0.9705 - loss: 0.0762 - val_accuracy: 1.0000 - val_loss: 9.6579e-04\n",
            "Epoch 33/100\n",
            "30/30 - 0s - 3ms/step - accuracy: 0.9916 - loss: 0.0262 - val_accuracy: 1.0000 - val_loss: 2.0017e-04\n",
            "Epoch 34/100\n",
            "30/30 - 0s - 3ms/step - accuracy: 0.9747 - loss: 0.0670 - val_accuracy: 1.0000 - val_loss: 5.2546e-05\n",
            "Epoch 35/100\n",
            "30/30 - 0s - 3ms/step - accuracy: 0.9831 - loss: 0.0452 - val_accuracy: 1.0000 - val_loss: 9.8963e-04\n",
            "Epoch 36/100\n",
            "30/30 - 0s - 3ms/step - accuracy: 0.9578 - loss: 0.1065 - val_accuracy: 1.0000 - val_loss: 1.6353e-04\n",
            "Epoch 37/100\n",
            "30/30 - 0s - 3ms/step - accuracy: 0.9536 - loss: 0.1872 - val_accuracy: 1.0000 - val_loss: 0.0090\n",
            "Epoch 38/100\n",
            "30/30 - 0s - 3ms/step - accuracy: 0.9662 - loss: 0.1342 - val_accuracy: 1.0000 - val_loss: 0.0040\n",
            "Epoch 39/100\n",
            "30/30 - 0s - 3ms/step - accuracy: 0.9916 - loss: 0.0318 - val_accuracy: 1.0000 - val_loss: 6.6709e-04\n",
            "Epoch 40/100\n",
            "30/30 - 0s - 3ms/step - accuracy: 0.9789 - loss: 0.0490 - val_accuracy: 1.0000 - val_loss: 2.2337e-04\n",
            "Epoch 41/100\n",
            "30/30 - 0s - 3ms/step - accuracy: 0.9705 - loss: 0.0586 - val_accuracy: 1.0000 - val_loss: 3.9637e-04\n",
            "Epoch 42/100\n",
            "30/30 - 0s - 3ms/step - accuracy: 0.9873 - loss: 0.0395 - val_accuracy: 1.0000 - val_loss: 3.1476e-04\n",
            "Epoch 43/100\n",
            "30/30 - 0s - 3ms/step - accuracy: 0.9789 - loss: 0.0479 - val_accuracy: 1.0000 - val_loss: 3.3042e-04\n",
            "Epoch 44/100\n",
            "30/30 - 0s - 3ms/step - accuracy: 0.9705 - loss: 0.0714 - val_accuracy: 1.0000 - val_loss: 1.8403e-04\n",
            "Epoch 45/100\n",
            "30/30 - 0s - 3ms/step - accuracy: 0.9873 - loss: 0.0468 - val_accuracy: 1.0000 - val_loss: 0.0011\n",
            "Epoch 46/100\n",
            "30/30 - 0s - 3ms/step - accuracy: 0.9789 - loss: 0.0659 - val_accuracy: 1.0000 - val_loss: 0.0011\n",
            "Epoch 47/100\n",
            "30/30 - 0s - 3ms/step - accuracy: 0.9873 - loss: 0.0495 - val_accuracy: 0.9875 - val_loss: 0.0167\n",
            "Epoch 48/100\n",
            "30/30 - 0s - 3ms/step - accuracy: 0.9831 - loss: 0.0620 - val_accuracy: 1.0000 - val_loss: 0.0036\n",
            "Epoch 49/100\n",
            "30/30 - 0s - 3ms/step - accuracy: 0.9831 - loss: 0.0638 - val_accuracy: 1.0000 - val_loss: 1.5659e-04\n",
            "Epoch 50/100\n",
            "30/30 - 0s - 3ms/step - accuracy: 0.9789 - loss: 0.0491 - val_accuracy: 1.0000 - val_loss: 1.0792e-04\n",
            "Epoch 51/100\n",
            "30/30 - 0s - 3ms/step - accuracy: 0.9662 - loss: 0.1322 - val_accuracy: 1.0000 - val_loss: 5.3994e-04\n",
            "Epoch 52/100\n",
            "30/30 - 0s - 3ms/step - accuracy: 0.9873 - loss: 0.0480 - val_accuracy: 1.0000 - val_loss: 0.0099\n",
            "Epoch 53/100\n",
            "30/30 - 0s - 3ms/step - accuracy: 0.9958 - loss: 0.0215 - val_accuracy: 1.0000 - val_loss: 0.0011\n",
            "Epoch 54/100\n",
            "30/30 - 0s - 3ms/step - accuracy: 0.9747 - loss: 0.0650 - val_accuracy: 1.0000 - val_loss: 1.7919e-04\n",
            "Epoch 55/100\n",
            "30/30 - 0s - 3ms/step - accuracy: 1.0000 - loss: 0.0114 - val_accuracy: 1.0000 - val_loss: 1.6380e-04\n",
            "Epoch 56/100\n",
            "30/30 - 0s - 3ms/step - accuracy: 0.9705 - loss: 0.0865 - val_accuracy: 1.0000 - val_loss: 0.0014\n",
            "Epoch 57/100\n",
            "30/30 - 0s - 3ms/step - accuracy: 0.9662 - loss: 0.1090 - val_accuracy: 1.0000 - val_loss: 3.8090e-04\n",
            "Epoch 58/100\n",
            "30/30 - 0s - 3ms/step - accuracy: 0.9747 - loss: 0.0495 - val_accuracy: 1.0000 - val_loss: 1.7645e-04\n",
            "Epoch 59/100\n",
            "30/30 - 0s - 3ms/step - accuracy: 0.9958 - loss: 0.0245 - val_accuracy: 1.0000 - val_loss: 1.4292e-04\n",
            "Epoch 60/100\n",
            "30/30 - 0s - 3ms/step - accuracy: 0.9958 - loss: 0.0311 - val_accuracy: 1.0000 - val_loss: 3.1778e-04\n",
            "Epoch 61/100\n",
            "30/30 - 0s - 3ms/step - accuracy: 0.9873 - loss: 0.0330 - val_accuracy: 1.0000 - val_loss: 1.4820e-04\n",
            "Epoch 62/100\n",
            "30/30 - 0s - 3ms/step - accuracy: 0.9873 - loss: 0.0332 - val_accuracy: 1.0000 - val_loss: 8.9517e-05\n",
            "Epoch 63/100\n",
            "30/30 - 0s - 3ms/step - accuracy: 0.9789 - loss: 0.0657 - val_accuracy: 1.0000 - val_loss: 2.0794e-04\n",
            "Epoch 64/100\n",
            "30/30 - 0s - 3ms/step - accuracy: 1.0000 - loss: 0.0152 - val_accuracy: 1.0000 - val_loss: 1.2418e-04\n",
            "Epoch 65/100\n",
            "30/30 - 0s - 3ms/step - accuracy: 0.9916 - loss: 0.0213 - val_accuracy: 1.0000 - val_loss: 7.4286e-05\n",
            "Epoch 66/100\n",
            "30/30 - 0s - 3ms/step - accuracy: 0.9916 - loss: 0.0318 - val_accuracy: 1.0000 - val_loss: 4.5247e-05\n",
            "Epoch 67/100\n",
            "30/30 - 0s - 3ms/step - accuracy: 0.9747 - loss: 0.0568 - val_accuracy: 1.0000 - val_loss: 8.1718e-05\n",
            "Epoch 68/100\n",
            "30/30 - 0s - 3ms/step - accuracy: 0.9916 - loss: 0.0243 - val_accuracy: 1.0000 - val_loss: 4.2206e-05\n",
            "Epoch 69/100\n",
            "30/30 - 0s - 3ms/step - accuracy: 0.9789 - loss: 0.0488 - val_accuracy: 1.0000 - val_loss: 9.3413e-05\n",
            "Epoch 70/100\n",
            "30/30 - 0s - 3ms/step - accuracy: 0.9662 - loss: 0.1136 - val_accuracy: 1.0000 - val_loss: 5.0072e-04\n",
            "Epoch 71/100\n",
            "30/30 - 0s - 3ms/step - accuracy: 0.9958 - loss: 0.0239 - val_accuracy: 1.0000 - val_loss: 1.9612e-04\n",
            "Epoch 72/100\n",
            "30/30 - 0s - 3ms/step - accuracy: 0.9831 - loss: 0.0359 - val_accuracy: 1.0000 - val_loss: 1.4531e-04\n",
            "Epoch 73/100\n",
            "30/30 - 0s - 3ms/step - accuracy: 0.9662 - loss: 0.1152 - val_accuracy: 1.0000 - val_loss: 6.7686e-04\n",
            "Epoch 74/100\n",
            "30/30 - 0s - 3ms/step - accuracy: 0.9620 - loss: 0.1208 - val_accuracy: 1.0000 - val_loss: 5.5089e-04\n",
            "Epoch 75/100\n",
            "30/30 - 0s - 3ms/step - accuracy: 0.9831 - loss: 0.0410 - val_accuracy: 1.0000 - val_loss: 2.3011e-04\n",
            "Epoch 76/100\n",
            "30/30 - 0s - 3ms/step - accuracy: 0.9747 - loss: 0.0684 - val_accuracy: 0.9875 - val_loss: 0.0121\n",
            "Epoch 77/100\n",
            "30/30 - 0s - 3ms/step - accuracy: 0.9873 - loss: 0.0531 - val_accuracy: 1.0000 - val_loss: 3.2653e-04\n",
            "Epoch 78/100\n",
            "30/30 - 0s - 3ms/step - accuracy: 0.9958 - loss: 0.0147 - val_accuracy: 1.0000 - val_loss: 7.6196e-05\n",
            "Epoch 79/100\n",
            "30/30 - 0s - 3ms/step - accuracy: 0.9958 - loss: 0.0236 - val_accuracy: 1.0000 - val_loss: 8.7691e-05\n",
            "Epoch 80/100\n",
            "30/30 - 0s - 3ms/step - accuracy: 0.9662 - loss: 0.0961 - val_accuracy: 1.0000 - val_loss: 1.5482e-04\n",
            "Epoch 81/100\n",
            "30/30 - 0s - 3ms/step - accuracy: 0.9916 - loss: 0.0587 - val_accuracy: 1.0000 - val_loss: 1.9605e-04\n",
            "Epoch 82/100\n",
            "30/30 - 0s - 3ms/step - accuracy: 0.9916 - loss: 0.0411 - val_accuracy: 1.0000 - val_loss: 1.5450e-04\n",
            "Epoch 83/100\n",
            "30/30 - 0s - 3ms/step - accuracy: 0.9958 - loss: 0.0122 - val_accuracy: 1.0000 - val_loss: 4.8102e-05\n",
            "Epoch 84/100\n",
            "30/30 - 0s - 3ms/step - accuracy: 1.0000 - loss: 0.0044 - val_accuracy: 1.0000 - val_loss: 2.6026e-05\n",
            "Epoch 85/100\n",
            "30/30 - 0s - 3ms/step - accuracy: 0.9916 - loss: 0.0161 - val_accuracy: 1.0000 - val_loss: 1.9431e-05\n",
            "Epoch 86/100\n",
            "30/30 - 0s - 3ms/step - accuracy: 0.9958 - loss: 0.0114 - val_accuracy: 1.0000 - val_loss: 9.2666e-05\n",
            "Epoch 87/100\n",
            "30/30 - 0s - 3ms/step - accuracy: 0.9916 - loss: 0.0225 - val_accuracy: 1.0000 - val_loss: 2.3230e-05\n",
            "Epoch 88/100\n",
            "30/30 - 0s - 3ms/step - accuracy: 0.9873 - loss: 0.0279 - val_accuracy: 1.0000 - val_loss: 8.6674e-05\n",
            "Epoch 89/100\n",
            "30/30 - 0s - 3ms/step - accuracy: 0.9451 - loss: 0.1082 - val_accuracy: 1.0000 - val_loss: 1.2534e-04\n",
            "Epoch 90/100\n",
            "30/30 - 0s - 3ms/step - accuracy: 0.9620 - loss: 0.1071 - val_accuracy: 1.0000 - val_loss: 1.0723e-04\n",
            "Epoch 91/100\n",
            "30/30 - 0s - 3ms/step - accuracy: 0.9789 - loss: 0.0662 - val_accuracy: 1.0000 - val_loss: 1.8701e-04\n",
            "Epoch 92/100\n",
            "30/30 - 0s - 3ms/step - accuracy: 0.9873 - loss: 0.0287 - val_accuracy: 1.0000 - val_loss: 1.3496e-04\n",
            "Epoch 93/100\n",
            "30/30 - 0s - 3ms/step - accuracy: 0.9789 - loss: 0.0822 - val_accuracy: 1.0000 - val_loss: 7.7878e-05\n",
            "Epoch 94/100\n",
            "30/30 - 0s - 3ms/step - accuracy: 0.9831 - loss: 0.0445 - val_accuracy: 1.0000 - val_loss: 4.8633e-05\n",
            "Epoch 95/100\n",
            "30/30 - 0s - 3ms/step - accuracy: 0.9916 - loss: 0.0218 - val_accuracy: 1.0000 - val_loss: 4.7993e-05\n",
            "Epoch 96/100\n",
            "30/30 - 0s - 3ms/step - accuracy: 0.9873 - loss: 0.0318 - val_accuracy: 1.0000 - val_loss: 2.2353e-04\n",
            "Epoch 97/100\n",
            "30/30 - 0s - 3ms/step - accuracy: 0.9705 - loss: 0.0772 - val_accuracy: 1.0000 - val_loss: 0.0012\n",
            "Epoch 98/100\n",
            "30/30 - 0s - 3ms/step - accuracy: 0.9789 - loss: 0.0491 - val_accuracy: 0.9875 - val_loss: 0.0134\n",
            "Epoch 99/100\n",
            "30/30 - 0s - 3ms/step - accuracy: 0.9705 - loss: 0.0846 - val_accuracy: 0.9875 - val_loss: 0.0154\n",
            "Epoch 100/100\n",
            "30/30 - 0s - 3ms/step - accuracy: 0.9831 - loss: 0.0696 - val_accuracy: 0.9875 - val_loss: 0.0146\n"
          ]
        }
      ],
      "source": [
        "history = model.fit(\n",
        "    X_train,\n",
        "    y_train,\n",
        "    epochs=100,\n",
        "    batch_size=8,\n",
        "    validation_data=(X_test, y_test),\n",
        "    verbose=2\n",
        ")\n"
      ]
    },
    {
      "cell_type": "code",
      "execution_count": 39,
      "metadata": {
        "colab": {
          "base_uri": "https://localhost:8080/"
        },
        "id": "ypqky9tc9hE1",
        "outputId": "5db082bb-30e3-4110-bf63-a1ee777ecd46"
      },
      "outputs": [],
      "source": [
        "#model.summary()  # tf.keras.utils.plot_model(model, show_shapes=True)"
      ]
    },
    {
      "cell_type": "code",
      "execution_count": 40,
      "metadata": {
        "id": "MbMjOflQ9hE1"
      },
      "outputs": [],
      "source": [
        "# Model checkpoint callback\n",
        "#cp_callback = tf.keras.callbacks.ModelCheckpoint(\n",
        "    #model_save_path, verbose=1, save_weights_only=False)\n",
        "# Callback for early stopping\n",
        "#es_callback = tf.keras.callbacks.EarlyStopping(patience=20, verbose=1)"
      ]
    },
    {
      "cell_type": "code",
      "execution_count": 41,
      "metadata": {
        "id": "c3Dac0M_9hE2"
      },
      "outputs": [],
      "source": [
        "# Model compilation\n",
        "#model.compile(\n",
        "    #optimizer='Adam',\n",
        "    #loss='sparse_categorical_crossentropy',\n",
        "   # metrics=['accuracy']\n",
        "#)"
      ]
    },
    {
      "cell_type": "code",
      "execution_count": 42,
      "metadata": {},
      "outputs": [
        {
          "name": "stderr",
          "output_type": "stream",
          "text": [
            "WARNING:absl:You are saving your model as an HDF5 file via `model.save()` or `keras.saving.save_model(model)`. This file format is considered legacy. We recommend using instead the native Keras format, e.g. `model.save('my_model.keras')` or `keras.saving.save_model(model, 'my_model.keras')`. \n"
          ]
        }
      ],
      "source": [
        "model.save('new_hand_model.h5')\n"
      ]
    },
    {
      "cell_type": "markdown",
      "metadata": {
        "id": "7XI0j1Iu9hE2"
      },
      "source": [
        "# Model training"
      ]
    },
    {
      "cell_type": "code",
      "execution_count": 43,
      "metadata": {
        "colab": {
          "base_uri": "https://localhost:8080/"
        },
        "id": "WirBl-JE9hE3",
        "outputId": "71b30ca2-8294-4d9d-8aa2-800d90d399de",
        "scrolled": true
      },
      "outputs": [],
      "source": [
        "#model.fit(\n",
        "   # X_train,\n",
        "   # y_train,\n",
        "    #epochs=1000,\n",
        "   # batch_size=128,\n",
        "    #validation_data=(X_test, y_test),\n",
        "   # callbacks=[cp_callback, es_callback]\n",
        "#)"
      ]
    },
    {
      "cell_type": "code",
      "execution_count": 44,
      "metadata": {
        "colab": {
          "base_uri": "https://localhost:8080/"
        },
        "id": "pxvb2Y299hE3",
        "outputId": "59eb3185-2e37-4b9e-bc9d-ab1b8ac29b7f"
      },
      "outputs": [
        {
          "name": "stdout",
          "output_type": "stream",
          "text": [
            "\u001b[1m3/3\u001b[0m \u001b[32m━━━━━━━━━━━━━━━━━━━━\u001b[0m\u001b[37m\u001b[0m \u001b[1m0s\u001b[0m 8ms/step - accuracy: 0.9898 - loss: 0.0120      \n",
            "Validation Accuracy: 98.75%\n"
          ]
        }
      ],
      "source": [
        "# Model evaluation\n",
        "val_loss, val_acc = model.evaluate(X_test, y_test)\n",
        "print(f\"Validation Accuracy: {val_acc * 100:.2f}%\")\n"
      ]
    },
    {
      "cell_type": "code",
      "execution_count": 45,
      "metadata": {
        "id": "RBkmDeUW9hE4"
      },
      "outputs": [],
      "source": [
        "# Loading the saved model\n",
        "#model = tf.keras.models.load_model(model_save_path)"
      ]
    },
    {
      "cell_type": "code",
      "execution_count": 46,
      "metadata": {
        "colab": {
          "base_uri": "https://localhost:8080/"
        },
        "id": "tFz9Tb0I9hE4",
        "outputId": "1c3b3528-54ae-4ee2-ab04-77429211cbef"
      },
      "outputs": [],
      "source": [
        "# Inference test\n",
        "#predict_result = model.predict(np.array([X_test[0]]))\n",
        "\n",
        "#print(np.squeeze(predict_result))\n",
        "#print(np.argmax(np.squeeze(predict_result)))"
      ]
    },
    {
      "cell_type": "markdown",
      "metadata": {
        "id": "S3U4yNWx9hE4"
      },
      "source": [
        "# Confusion matrix"
      ]
    },
    {
      "cell_type": "code",
      "execution_count": 47,
      "metadata": {
        "colab": {
          "base_uri": "https://localhost:8080/",
          "height": 582
        },
        "id": "AP1V6SCk9hE5",
        "outputId": "08e41a80-7a4a-4619-8125-ecc371368d19"
      },
      "outputs": [
        {
          "name": "stdout",
          "output_type": "stream",
          "text": [
            "\u001b[1m3/3\u001b[0m \u001b[32m━━━━━━━━━━━━━━━━━━━━\u001b[0m\u001b[37m\u001b[0m \u001b[1m0s\u001b[0m 20ms/step\n"
          ]
        },
        {
          "data": {
            "image/png": "[encoded data removed]",
            "text/plain": [
              "<Figure size 800x600 with 2 Axes>"
            ]
          },
          "metadata": {},
          "output_type": "display_data"
        }
      ],
      "source": [
        "def plot_confusion_matrix(y_true, y_pred, classes):\n",
        "    cm = confusion_matrix(y_true, y_pred)\n",
        "    plt.figure(figsize=(8, 6))\n",
        "    sns.heatmap(cm, annot=True, fmt='d', cmap='Blues', xticklabels=classes, yticklabels=classes)\n",
        "    plt.xlabel('Predicted')\n",
        "    plt.ylabel('True')\n",
        "    plt.show()\n",
        "\n",
        "# Predict on test set\n",
        "y_pred = np.argmax(model.predict(X_test), axis=1)\n",
        "\n",
        "# Plot confusion matrix\n",
        "plot_confusion_matrix(y_test, y_pred, encoder.classes_)\n"
      ]
    },
    {
      "cell_type": "markdown",
      "metadata": {
        "id": "FNP6aqzc9hE5"
      },
      "source": [
        "# Convert to model for Tensorflow-Lite"
      ]
    },
    {
      "cell_type": "code",
      "execution_count": 48,
      "metadata": {
        "id": "ODjnYyld9hE6"
      },
      "outputs": [
        {
          "name": "stderr",
          "output_type": "stream",
          "text": [
            "WARNING:absl:You are saving your model as an HDF5 file via `model.save()` or `keras.saving.save_model(model)`. This file format is considered legacy. We recommend using instead the native Keras format, e.g. `model.save('my_model.keras')` or `keras.saving.save_model(model, 'my_model.keras')`. \n"
          ]
        }
      ],
      "source": [
        "# Save as a model dedicated to inference\n",
        "#model.save('keypoint_classifier.h5')\n",
        "\n",
        "model.save('new_hand_model.h5')\n"
      ]
    },
    {
      "cell_type": "code",
      "execution_count": null,
      "metadata": {},
      "outputs": [],
      "source": []
    },
    {
      "cell_type": "code",
      "execution_count": null,
      "metadata": {
        "colab": {
          "base_uri": "https://localhost:8080/"
        },
        "id": "zRfuK8Y59hE6",
        "outputId": "a4ca585c-b5d5-4244-8291-8674063209bb"
      },
      "outputs": [
        {
          "name": "stdout",
          "output_type": "stream",
          "text": [
            "INFO:tensorflow:Assets written to: /var/folders/mt/fnjyynpn63q16jqrl370vb8w0000gn/T/tmpiqrw74qk/assets\n"
          ]
        },
        {
          "name": "stderr",
          "output_type": "stream",
          "text": [
            "INFO:tensorflow:Assets written to: /var/folders/mt/fnjyynpn63q16jqrl370vb8w0000gn/T/tmpiqrw74qk/assets\n"
          ]
        },
        {
          "name": "stdout",
          "output_type": "stream",
          "text": [
            "Saved artifact at '/var/folders/mt/fnjyynpn63q16jqrl370vb8w0000gn/T/tmpiqrw74qk'. The following endpoints are available:\n",
            "\n",
            "* Endpoint 'serve'\n",
            "  args_0 (POSITIONAL_ONLY): TensorSpec(shape=(None, 42), dtype=tf.float32, name='keras_tensor_8')\n",
            "Output Type:\n",
            "  TensorSpec(shape=(None, 3), dtype=tf.float32, name=None)\n",
            "Captures:\n",
            "  14277507376: TensorSpec(shape=(), dtype=tf.resource, name=None)\n",
            "  14277508608: TensorSpec(shape=(), dtype=tf.resource, name=None)\n",
            "  14277551728: TensorSpec(shape=(), dtype=tf.resource, name=None)\n",
            "  14277553488: TensorSpec(shape=(), dtype=tf.resource, name=None)\n",
            "  14293933920: TensorSpec(shape=(), dtype=tf.resource, name=None)\n",
            "  14293931456: TensorSpec(shape=(), dtype=tf.resource, name=None)\n",
            "  14289098880: TensorSpec(shape=(), dtype=tf.resource, name=None)\n",
            "  14289097472: TensorSpec(shape=(), dtype=tf.resource, name=None)\n",
            "  14288951072: TensorSpec(shape=(), dtype=tf.resource, name=None)\n",
            "  14288952832: TensorSpec(shape=(), dtype=tf.resource, name=None)\n",
            "  14293639760: TensorSpec(shape=(), dtype=tf.resource, name=None)\n",
            "  14293640112: TensorSpec(shape=(), dtype=tf.resource, name=None)\n"
          ]
        },
        {
          "name": "stderr",
          "output_type": "stream",
          "text": [
            "WARNING: All log messages before absl::InitializeLog() is called are written to STDERR\n",
            "W0000 00:00:1745819425.551995   38361 tf_tfl_flatbuffer_helpers.cc:365] Ignored output_format.\n",
            "W0000 00:00:1745819425.552198   38361 tf_tfl_flatbuffer_helpers.cc:368] Ignored drop_control_dependency.\n",
            "I0000 00:00:1745819425.560122   38361 mlir_graph_optimization_pass.cc:425] MLIR V1 optimization pass is not enabled\n"
          ]
        },
        {
          "data": {
            "text/plain": [
              "62528"
            ]
          },
          "execution_count": 49,
          "metadata": {},
          "output_type": "execute_result"
        }
      ],
      "source": [
        "# Transform model (quantization)\n",
        "\n",
        "#converter = tf.lite.TFLiteConverter.from_keras_model(model)\n",
        "#converter.optimizations = [tf.lite.Optimize.DEFAULT]\n",
        "#tflite_quantized_model = converter.convert()\n",
        "\n",
        "#open(tflite_save_path, 'wb').write(tflite_quantized_model)"
      ]
    },
    {
      "cell_type": "markdown",
      "metadata": {
        "id": "CHBPBXdx9hE6"
      },
      "source": [
        "# Inference test"
      ]
    },
    {
      "cell_type": "code",
      "execution_count": null,
      "metadata": {
        "id": "mGAzLocO9hE7"
      },
      "outputs": [
        {
          "name": "stderr",
          "output_type": "stream",
          "text": [
            "/Users/mariamjamil/Library/Python/3.9/lib/python/site-packages/tensorflow/lite/python/interpreter.py:457: UserWarning:     Warning: tf.lite.Interpreter is deprecated and is scheduled for deletion in\n",
            "    TF 2.20. Please use the LiteRT interpreter from the ai_edge_litert package.\n",
            "    See the [migration guide](https://ai.google.dev/edge/litert/migration)\n",
            "    for details.\n",
            "    \n",
            "  warnings.warn(_INTERPRETER_DELETION_WARNING)\n",
            "INFO: Created TensorFlow Lite XNNPACK delegate for CPU.\n"
          ]
        }
      ],
      "source": [
        "#interpreter = tf.lite.Interpreter(model_path=tflite_save_path)\n",
        "#interpreter.allocate_tensors()"
      ]
    },
    {
      "cell_type": "code",
      "execution_count": null,
      "metadata": {
        "id": "oQuDK8YS9hE7"
      },
      "outputs": [],
      "source": [
        "# Get I / O tensor\n",
        "#input_details = interpreter.get_input_details()\n",
        "#output_details = interpreter.get_output_details()"
      ]
    },
    {
      "cell_type": "code",
      "execution_count": null,
      "metadata": {
        "id": "2_ixAf_l9hE7"
      },
      "outputs": [
        {
          "ename": "KeyError",
          "evalue": "0",
          "output_type": "error",
          "traceback": [
            "\u001b[0;31m---------------------------------------------------------------------------\u001b[0m",
            "\u001b[0;31mKeyError\u001b[0m                                  Traceback (most recent call last)",
            "File \u001b[0;32m~/Library/Python/3.9/lib/python/site-packages/pandas/core/indexes/base.py:3805\u001b[0m, in \u001b[0;36mIndex.get_loc\u001b[0;34m(self, key)\u001b[0m\n\u001b[1;32m   3804\u001b[0m \u001b[38;5;28;01mtry\u001b[39;00m:\n\u001b[0;32m-> 3805\u001b[0m     \u001b[38;5;28;01mreturn\u001b[39;00m \u001b[38;5;28;43mself\u001b[39;49m\u001b[38;5;241;43m.\u001b[39;49m\u001b[43m_engine\u001b[49m\u001b[38;5;241;43m.\u001b[39;49m\u001b[43mget_loc\u001b[49m\u001b[43m(\u001b[49m\u001b[43mcasted_key\u001b[49m\u001b[43m)\u001b[49m\n\u001b[1;32m   3806\u001b[0m \u001b[38;5;28;01mexcept\u001b[39;00m \u001b[38;5;167;01mKeyError\u001b[39;00m \u001b[38;5;28;01mas\u001b[39;00m err:\n",
            "File \u001b[0;32mindex.pyx:167\u001b[0m, in \u001b[0;36mpandas._libs.index.IndexEngine.get_loc\u001b[0;34m()\u001b[0m\n",
            "File \u001b[0;32mindex.pyx:196\u001b[0m, in \u001b[0;36mpandas._libs.index.IndexEngine.get_loc\u001b[0;34m()\u001b[0m\n",
            "File \u001b[0;32mpandas/_libs/hashtable_class_helper.pxi:2606\u001b[0m, in \u001b[0;36mpandas._libs.hashtable.Int64HashTable.get_item\u001b[0;34m()\u001b[0m\n",
            "File \u001b[0;32mpandas/_libs/hashtable_class_helper.pxi:2630\u001b[0m, in \u001b[0;36mpandas._libs.hashtable.Int64HashTable.get_item\u001b[0;34m()\u001b[0m\n",
            "\u001b[0;31mKeyError\u001b[0m: 0",
            "\nThe above exception was the direct cause of the following exception:\n",
            "\u001b[0;31mKeyError\u001b[0m                                  Traceback (most recent call last)",
            "Cell \u001b[0;32mIn[52], line 1\u001b[0m\n\u001b[0;32m----> 1\u001b[0m interpreter\u001b[38;5;241m.\u001b[39mset_tensor(input_details[\u001b[38;5;241m0\u001b[39m][\u001b[38;5;124m'\u001b[39m\u001b[38;5;124mindex\u001b[39m\u001b[38;5;124m'\u001b[39m], np\u001b[38;5;241m.\u001b[39marray([\u001b[43mX_test\u001b[49m\u001b[43m[\u001b[49m\u001b[38;5;241;43m0\u001b[39;49m\u001b[43m]\u001b[49m]))\n",
            "File \u001b[0;32m~/Library/Python/3.9/lib/python/site-packages/pandas/core/frame.py:4102\u001b[0m, in \u001b[0;36mDataFrame.__getitem__\u001b[0;34m(self, key)\u001b[0m\n\u001b[1;32m   4100\u001b[0m \u001b[38;5;28;01mif\u001b[39;00m \u001b[38;5;28mself\u001b[39m\u001b[38;5;241m.\u001b[39mcolumns\u001b[38;5;241m.\u001b[39mnlevels \u001b[38;5;241m>\u001b[39m \u001b[38;5;241m1\u001b[39m:\n\u001b[1;32m   4101\u001b[0m     \u001b[38;5;28;01mreturn\u001b[39;00m \u001b[38;5;28mself\u001b[39m\u001b[38;5;241m.\u001b[39m_getitem_multilevel(key)\n\u001b[0;32m-> 4102\u001b[0m indexer \u001b[38;5;241m=\u001b[39m \u001b[38;5;28;43mself\u001b[39;49m\u001b[38;5;241;43m.\u001b[39;49m\u001b[43mcolumns\u001b[49m\u001b[38;5;241;43m.\u001b[39;49m\u001b[43mget_loc\u001b[49m\u001b[43m(\u001b[49m\u001b[43mkey\u001b[49m\u001b[43m)\u001b[49m\n\u001b[1;32m   4103\u001b[0m \u001b[38;5;28;01mif\u001b[39;00m is_integer(indexer):\n\u001b[1;32m   4104\u001b[0m     indexer \u001b[38;5;241m=\u001b[39m [indexer]\n",
            "File \u001b[0;32m~/Library/Python/3.9/lib/python/site-packages/pandas/core/indexes/base.py:3812\u001b[0m, in \u001b[0;36mIndex.get_loc\u001b[0;34m(self, key)\u001b[0m\n\u001b[1;32m   3807\u001b[0m     \u001b[38;5;28;01mif\u001b[39;00m \u001b[38;5;28misinstance\u001b[39m(casted_key, \u001b[38;5;28mslice\u001b[39m) \u001b[38;5;129;01mor\u001b[39;00m (\n\u001b[1;32m   3808\u001b[0m         \u001b[38;5;28misinstance\u001b[39m(casted_key, abc\u001b[38;5;241m.\u001b[39mIterable)\n\u001b[1;32m   3809\u001b[0m         \u001b[38;5;129;01mand\u001b[39;00m \u001b[38;5;28many\u001b[39m(\u001b[38;5;28misinstance\u001b[39m(x, \u001b[38;5;28mslice\u001b[39m) \u001b[38;5;28;01mfor\u001b[39;00m x \u001b[38;5;129;01min\u001b[39;00m casted_key)\n\u001b[1;32m   3810\u001b[0m     ):\n\u001b[1;32m   3811\u001b[0m         \u001b[38;5;28;01mraise\u001b[39;00m InvalidIndexError(key)\n\u001b[0;32m-> 3812\u001b[0m     \u001b[38;5;28;01mraise\u001b[39;00m \u001b[38;5;167;01mKeyError\u001b[39;00m(key) \u001b[38;5;28;01mfrom\u001b[39;00m\u001b[38;5;250m \u001b[39m\u001b[38;5;21;01merr\u001b[39;00m\n\u001b[1;32m   3813\u001b[0m \u001b[38;5;28;01mexcept\u001b[39;00m \u001b[38;5;167;01mTypeError\u001b[39;00m:\n\u001b[1;32m   3814\u001b[0m     \u001b[38;5;66;03m# If we have a listlike key, _check_indexing_error will raise\u001b[39;00m\n\u001b[1;32m   3815\u001b[0m     \u001b[38;5;66;03m#  InvalidIndexError. Otherwise we fall through and re-raise\u001b[39;00m\n\u001b[1;32m   3816\u001b[0m     \u001b[38;5;66;03m#  the TypeError.\u001b[39;00m\n\u001b[1;32m   3817\u001b[0m     \u001b[38;5;28mself\u001b[39m\u001b[38;5;241m.\u001b[39m_check_indexing_error(key)\n",
            "\u001b[0;31mKeyError\u001b[0m: 0"
          ]
        }
      ],
      "source": [
        "#interpreter.set_tensor(input_details[0]['index'], np.array([X_test[0]]))"
      ]
    },
    {
      "cell_type": "code",
      "execution_count": null,
      "metadata": {
        "colab": {
          "base_uri": "https://localhost:8080/"
        },
        "id": "s4FoAnuc9hE7",
        "outputId": "91f18257-8d8b-4ef3-c558-e9b5f94fabbf",
        "scrolled": true
      },
      "outputs": [
        {
          "name": "stdout",
          "output_type": "stream",
          "text": [
            "CPU times: user 470 µs, sys: 923 µs, total: 1.39 ms\n",
            "Wall time: 868 µs\n"
          ]
        }
      ],
      "source": [
        "#%%time\n",
        "# Inference implementation\n",
        "#interpreter.invoke()\n",
        "#tflite_results = interpreter.get_tensor(output_details[0]['index'])"
      ]
    },
    {
      "cell_type": "code",
      "execution_count": null,
      "metadata": {
        "colab": {
          "base_uri": "https://localhost:8080/"
        },
        "id": "vONjp19J9hE8",
        "outputId": "77205e24-fd00-42c4-f7b6-e06e527c2cba"
      },
      "outputs": [
        {
          "name": "stdout",
          "output_type": "stream",
          "text": [
            "[2.8241775e-04 3.6701895e-11 4.3712770e-08 1.7518575e-07 1.0869401e-07\n",
            " 5.6491086e-07 7.3864851e-07 1.3587170e-12 6.9029594e-04 3.0718316e-04\n",
            " 1.4956798e-06 4.9681853e-06 2.4027977e-05 2.5026598e-08 3.3755168e-06\n",
            " 1.4071456e-09 1.3491152e-07 4.6256287e-11 5.9412017e-08 4.0359737e-05\n",
            " 3.3075115e-10 1.3051312e-08 2.1617660e-07 1.2159130e-06 9.9864262e-01\n",
            " 1.1613613e-08]\n",
            "24\n"
          ]
        }
      ],
      "source": [
        "#print(np.squeeze(tflite_results))\n",
        "#print(np.argmax(np.squeeze(tflite_results)))"
      ]
    }
  ],
  "metadata": {
    "accelerator": "GPU",
    "colab": {
      "collapsed_sections": [],
      "name": "keypoint_classification_EN.ipynb",
      "provenance": [],
      "toc_visible": true
    },
    "kernelspec": {
      "display_name": "Python 3",
      "language": "python",
      "name": "python3"
    },
    "language_info": {
      "codemirror_mode": {
        "name": "ipython",
        "version": 3
      },
      "file_extension": ".py",
      "mimetype": "text/x-python",
      "name": "python",
      "nbconvert_exporter": "python",
      "pygments_lexer": "ipython3",
      "version": "3.9.6"
    }
  },
  "nbformat": 4,
  "nbformat_minor": 0
}
