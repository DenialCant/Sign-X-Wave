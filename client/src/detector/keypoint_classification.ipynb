{
  "cells": [
    {
      "cell_type": "code",
      "execution_count": 134,
      "metadata": {
        "id": "igMyGnjE9hEp"
      },
      "outputs": [],
      "source": [
        "import csv\n",
        "import pandas as pd\n",
        "import numpy as np\n",
        "import tensorflow as tf\n",
        "from sklearn.model_selection import train_test_split\n",
        "from sklearn.preprocessing import LabelEncoder\n",
        "import matplotlib.pyplot as plt\n",
        "import seaborn as sns\n",
        "from sklearn.metrics import confusion_matrix, classification_report\n",
        "\n"
      ]
    },
    {
      "cell_type": "markdown",
      "metadata": {
        "id": "t2HDvhIu9hEr"
      },
      "source": [
        "# Specify each path"
      ]
    },
    {
      "cell_type": "code",
      "execution_count": 135,
      "metadata": {
        "id": "9NvZP2Zn9hEy"
      },
      "outputs": [
        {
          "ename": "FileNotFoundError",
          "evalue": "[Errno 2] No such file or directory: 'asl_landmarks_dataset.csv'",
          "output_type": "error",
          "traceback": [
            "\u001b[0;31m---------------------------------------------------------------------------\u001b[0m",
            "\u001b[0;31mFileNotFoundError\u001b[0m                         Traceback (most recent call last)",
            "Cell \u001b[0;32mIn[135], line 2\u001b[0m\n\u001b[1;32m      1\u001b[0m \u001b[38;5;66;03m#dataset = 'model/keypoint_classifier/keypoint.csv'\u001b[39;00m\n\u001b[0;32m----> 2\u001b[0m dataset \u001b[38;5;241m=\u001b[39m \u001b[43mpd\u001b[49m\u001b[38;5;241;43m.\u001b[39;49m\u001b[43mread_csv\u001b[49m\u001b[43m(\u001b[49m\u001b[38;5;124;43m'\u001b[39;49m\u001b[38;5;124;43masl_landmarks_dataset.csv\u001b[39;49m\u001b[38;5;124;43m'\u001b[39;49m\u001b[43m,\u001b[49m\u001b[43m \u001b[49m\u001b[43mheader\u001b[49m\u001b[38;5;241;43m=\u001b[39;49m\u001b[38;5;28;43;01mNone\u001b[39;49;00m\u001b[43m)\u001b[49m\n\u001b[1;32m      3\u001b[0m y_dataset \u001b[38;5;241m=\u001b[39m dataset\u001b[38;5;241m.\u001b[39miloc[:, \u001b[38;5;241m0\u001b[39m]\n\u001b[1;32m      4\u001b[0m X_dataset \u001b[38;5;241m=\u001b[39m dataset\u001b[38;5;241m.\u001b[39miloc[:, \u001b[38;5;241m1\u001b[39m:]\n",
            "File \u001b[0;32m~/Library/Python/3.9/lib/python/site-packages/pandas/io/parsers/readers.py:1026\u001b[0m, in \u001b[0;36mread_csv\u001b[0;34m(filepath_or_buffer, sep, delimiter, header, names, index_col, usecols, dtype, engine, converters, true_values, false_values, skipinitialspace, skiprows, skipfooter, nrows, na_values, keep_default_na, na_filter, verbose, skip_blank_lines, parse_dates, infer_datetime_format, keep_date_col, date_parser, date_format, dayfirst, cache_dates, iterator, chunksize, compression, thousands, decimal, lineterminator, quotechar, quoting, doublequote, escapechar, comment, encoding, encoding_errors, dialect, on_bad_lines, delim_whitespace, low_memory, memory_map, float_precision, storage_options, dtype_backend)\u001b[0m\n\u001b[1;32m   1013\u001b[0m kwds_defaults \u001b[38;5;241m=\u001b[39m _refine_defaults_read(\n\u001b[1;32m   1014\u001b[0m     dialect,\n\u001b[1;32m   1015\u001b[0m     delimiter,\n\u001b[0;32m   (...)\u001b[0m\n\u001b[1;32m   1022\u001b[0m     dtype_backend\u001b[38;5;241m=\u001b[39mdtype_backend,\n\u001b[1;32m   1023\u001b[0m )\n\u001b[1;32m   1024\u001b[0m kwds\u001b[38;5;241m.\u001b[39mupdate(kwds_defaults)\n\u001b[0;32m-> 1026\u001b[0m \u001b[38;5;28;01mreturn\u001b[39;00m \u001b[43m_read\u001b[49m\u001b[43m(\u001b[49m\u001b[43mfilepath_or_buffer\u001b[49m\u001b[43m,\u001b[49m\u001b[43m \u001b[49m\u001b[43mkwds\u001b[49m\u001b[43m)\u001b[49m\n",
            "File \u001b[0;32m~/Library/Python/3.9/lib/python/site-packages/pandas/io/parsers/readers.py:620\u001b[0m, in \u001b[0;36m_read\u001b[0;34m(filepath_or_buffer, kwds)\u001b[0m\n\u001b[1;32m    617\u001b[0m _validate_names(kwds\u001b[38;5;241m.\u001b[39mget(\u001b[38;5;124m\"\u001b[39m\u001b[38;5;124mnames\u001b[39m\u001b[38;5;124m\"\u001b[39m, \u001b[38;5;28;01mNone\u001b[39;00m))\n\u001b[1;32m    619\u001b[0m \u001b[38;5;66;03m# Create the parser.\u001b[39;00m\n\u001b[0;32m--> 620\u001b[0m parser \u001b[38;5;241m=\u001b[39m \u001b[43mTextFileReader\u001b[49m\u001b[43m(\u001b[49m\u001b[43mfilepath_or_buffer\u001b[49m\u001b[43m,\u001b[49m\u001b[43m \u001b[49m\u001b[38;5;241;43m*\u001b[39;49m\u001b[38;5;241;43m*\u001b[39;49m\u001b[43mkwds\u001b[49m\u001b[43m)\u001b[49m\n\u001b[1;32m    622\u001b[0m \u001b[38;5;28;01mif\u001b[39;00m chunksize \u001b[38;5;129;01mor\u001b[39;00m iterator:\n\u001b[1;32m    623\u001b[0m     \u001b[38;5;28;01mreturn\u001b[39;00m parser\n",
            "File \u001b[0;32m~/Library/Python/3.9/lib/python/site-packages/pandas/io/parsers/readers.py:1620\u001b[0m, in \u001b[0;36mTextFileReader.__init__\u001b[0;34m(self, f, engine, **kwds)\u001b[0m\n\u001b[1;32m   1617\u001b[0m     \u001b[38;5;28mself\u001b[39m\u001b[38;5;241m.\u001b[39moptions[\u001b[38;5;124m\"\u001b[39m\u001b[38;5;124mhas_index_names\u001b[39m\u001b[38;5;124m\"\u001b[39m] \u001b[38;5;241m=\u001b[39m kwds[\u001b[38;5;124m\"\u001b[39m\u001b[38;5;124mhas_index_names\u001b[39m\u001b[38;5;124m\"\u001b[39m]\n\u001b[1;32m   1619\u001b[0m \u001b[38;5;28mself\u001b[39m\u001b[38;5;241m.\u001b[39mhandles: IOHandles \u001b[38;5;241m|\u001b[39m \u001b[38;5;28;01mNone\u001b[39;00m \u001b[38;5;241m=\u001b[39m \u001b[38;5;28;01mNone\u001b[39;00m\n\u001b[0;32m-> 1620\u001b[0m \u001b[38;5;28mself\u001b[39m\u001b[38;5;241m.\u001b[39m_engine \u001b[38;5;241m=\u001b[39m \u001b[38;5;28;43mself\u001b[39;49m\u001b[38;5;241;43m.\u001b[39;49m\u001b[43m_make_engine\u001b[49m\u001b[43m(\u001b[49m\u001b[43mf\u001b[49m\u001b[43m,\u001b[49m\u001b[43m \u001b[49m\u001b[38;5;28;43mself\u001b[39;49m\u001b[38;5;241;43m.\u001b[39;49m\u001b[43mengine\u001b[49m\u001b[43m)\u001b[49m\n",
            "File \u001b[0;32m~/Library/Python/3.9/lib/python/site-packages/pandas/io/parsers/readers.py:1880\u001b[0m, in \u001b[0;36mTextFileReader._make_engine\u001b[0;34m(self, f, engine)\u001b[0m\n\u001b[1;32m   1878\u001b[0m     \u001b[38;5;28;01mif\u001b[39;00m \u001b[38;5;124m\"\u001b[39m\u001b[38;5;124mb\u001b[39m\u001b[38;5;124m\"\u001b[39m \u001b[38;5;129;01mnot\u001b[39;00m \u001b[38;5;129;01min\u001b[39;00m mode:\n\u001b[1;32m   1879\u001b[0m         mode \u001b[38;5;241m+\u001b[39m\u001b[38;5;241m=\u001b[39m \u001b[38;5;124m\"\u001b[39m\u001b[38;5;124mb\u001b[39m\u001b[38;5;124m\"\u001b[39m\n\u001b[0;32m-> 1880\u001b[0m \u001b[38;5;28mself\u001b[39m\u001b[38;5;241m.\u001b[39mhandles \u001b[38;5;241m=\u001b[39m \u001b[43mget_handle\u001b[49m\u001b[43m(\u001b[49m\n\u001b[1;32m   1881\u001b[0m \u001b[43m    \u001b[49m\u001b[43mf\u001b[49m\u001b[43m,\u001b[49m\n\u001b[1;32m   1882\u001b[0m \u001b[43m    \u001b[49m\u001b[43mmode\u001b[49m\u001b[43m,\u001b[49m\n\u001b[1;32m   1883\u001b[0m \u001b[43m    \u001b[49m\u001b[43mencoding\u001b[49m\u001b[38;5;241;43m=\u001b[39;49m\u001b[38;5;28;43mself\u001b[39;49m\u001b[38;5;241;43m.\u001b[39;49m\u001b[43moptions\u001b[49m\u001b[38;5;241;43m.\u001b[39;49m\u001b[43mget\u001b[49m\u001b[43m(\u001b[49m\u001b[38;5;124;43m\"\u001b[39;49m\u001b[38;5;124;43mencoding\u001b[39;49m\u001b[38;5;124;43m\"\u001b[39;49m\u001b[43m,\u001b[49m\u001b[43m \u001b[49m\u001b[38;5;28;43;01mNone\u001b[39;49;00m\u001b[43m)\u001b[49m\u001b[43m,\u001b[49m\n\u001b[1;32m   1884\u001b[0m \u001b[43m    \u001b[49m\u001b[43mcompression\u001b[49m\u001b[38;5;241;43m=\u001b[39;49m\u001b[38;5;28;43mself\u001b[39;49m\u001b[38;5;241;43m.\u001b[39;49m\u001b[43moptions\u001b[49m\u001b[38;5;241;43m.\u001b[39;49m\u001b[43mget\u001b[49m\u001b[43m(\u001b[49m\u001b[38;5;124;43m\"\u001b[39;49m\u001b[38;5;124;43mcompression\u001b[39;49m\u001b[38;5;124;43m\"\u001b[39;49m\u001b[43m,\u001b[49m\u001b[43m \u001b[49m\u001b[38;5;28;43;01mNone\u001b[39;49;00m\u001b[43m)\u001b[49m\u001b[43m,\u001b[49m\n\u001b[1;32m   1885\u001b[0m \u001b[43m    \u001b[49m\u001b[43mmemory_map\u001b[49m\u001b[38;5;241;43m=\u001b[39;49m\u001b[38;5;28;43mself\u001b[39;49m\u001b[38;5;241;43m.\u001b[39;49m\u001b[43moptions\u001b[49m\u001b[38;5;241;43m.\u001b[39;49m\u001b[43mget\u001b[49m\u001b[43m(\u001b[49m\u001b[38;5;124;43m\"\u001b[39;49m\u001b[38;5;124;43mmemory_map\u001b[39;49m\u001b[38;5;124;43m\"\u001b[39;49m\u001b[43m,\u001b[49m\u001b[43m \u001b[49m\u001b[38;5;28;43;01mFalse\u001b[39;49;00m\u001b[43m)\u001b[49m\u001b[43m,\u001b[49m\n\u001b[1;32m   1886\u001b[0m \u001b[43m    \u001b[49m\u001b[43mis_text\u001b[49m\u001b[38;5;241;43m=\u001b[39;49m\u001b[43mis_text\u001b[49m\u001b[43m,\u001b[49m\n\u001b[1;32m   1887\u001b[0m \u001b[43m    \u001b[49m\u001b[43merrors\u001b[49m\u001b[38;5;241;43m=\u001b[39;49m\u001b[38;5;28;43mself\u001b[39;49m\u001b[38;5;241;43m.\u001b[39;49m\u001b[43moptions\u001b[49m\u001b[38;5;241;43m.\u001b[39;49m\u001b[43mget\u001b[49m\u001b[43m(\u001b[49m\u001b[38;5;124;43m\"\u001b[39;49m\u001b[38;5;124;43mencoding_errors\u001b[39;49m\u001b[38;5;124;43m\"\u001b[39;49m\u001b[43m,\u001b[49m\u001b[43m \u001b[49m\u001b[38;5;124;43m\"\u001b[39;49m\u001b[38;5;124;43mstrict\u001b[39;49m\u001b[38;5;124;43m\"\u001b[39;49m\u001b[43m)\u001b[49m\u001b[43m,\u001b[49m\n\u001b[1;32m   1888\u001b[0m \u001b[43m    \u001b[49m\u001b[43mstorage_options\u001b[49m\u001b[38;5;241;43m=\u001b[39;49m\u001b[38;5;28;43mself\u001b[39;49m\u001b[38;5;241;43m.\u001b[39;49m\u001b[43moptions\u001b[49m\u001b[38;5;241;43m.\u001b[39;49m\u001b[43mget\u001b[49m\u001b[43m(\u001b[49m\u001b[38;5;124;43m\"\u001b[39;49m\u001b[38;5;124;43mstorage_options\u001b[39;49m\u001b[38;5;124;43m\"\u001b[39;49m\u001b[43m,\u001b[49m\u001b[43m \u001b[49m\u001b[38;5;28;43;01mNone\u001b[39;49;00m\u001b[43m)\u001b[49m\u001b[43m,\u001b[49m\n\u001b[1;32m   1889\u001b[0m \u001b[43m\u001b[49m\u001b[43m)\u001b[49m\n\u001b[1;32m   1890\u001b[0m \u001b[38;5;28;01massert\u001b[39;00m \u001b[38;5;28mself\u001b[39m\u001b[38;5;241m.\u001b[39mhandles \u001b[38;5;129;01mis\u001b[39;00m \u001b[38;5;129;01mnot\u001b[39;00m \u001b[38;5;28;01mNone\u001b[39;00m\n\u001b[1;32m   1891\u001b[0m f \u001b[38;5;241m=\u001b[39m \u001b[38;5;28mself\u001b[39m\u001b[38;5;241m.\u001b[39mhandles\u001b[38;5;241m.\u001b[39mhandle\n",
            "File \u001b[0;32m~/Library/Python/3.9/lib/python/site-packages/pandas/io/common.py:873\u001b[0m, in \u001b[0;36mget_handle\u001b[0;34m(path_or_buf, mode, encoding, compression, memory_map, is_text, errors, storage_options)\u001b[0m\n\u001b[1;32m    868\u001b[0m \u001b[38;5;28;01melif\u001b[39;00m \u001b[38;5;28misinstance\u001b[39m(handle, \u001b[38;5;28mstr\u001b[39m):\n\u001b[1;32m    869\u001b[0m     \u001b[38;5;66;03m# Check whether the filename is to be opened in binary mode.\u001b[39;00m\n\u001b[1;32m    870\u001b[0m     \u001b[38;5;66;03m# Binary mode does not support 'encoding' and 'newline'.\u001b[39;00m\n\u001b[1;32m    871\u001b[0m     \u001b[38;5;28;01mif\u001b[39;00m ioargs\u001b[38;5;241m.\u001b[39mencoding \u001b[38;5;129;01mand\u001b[39;00m \u001b[38;5;124m\"\u001b[39m\u001b[38;5;124mb\u001b[39m\u001b[38;5;124m\"\u001b[39m \u001b[38;5;129;01mnot\u001b[39;00m \u001b[38;5;129;01min\u001b[39;00m ioargs\u001b[38;5;241m.\u001b[39mmode:\n\u001b[1;32m    872\u001b[0m         \u001b[38;5;66;03m# Encoding\u001b[39;00m\n\u001b[0;32m--> 873\u001b[0m         handle \u001b[38;5;241m=\u001b[39m \u001b[38;5;28;43mopen\u001b[39;49m\u001b[43m(\u001b[49m\n\u001b[1;32m    874\u001b[0m \u001b[43m            \u001b[49m\u001b[43mhandle\u001b[49m\u001b[43m,\u001b[49m\n\u001b[1;32m    875\u001b[0m \u001b[43m            \u001b[49m\u001b[43mioargs\u001b[49m\u001b[38;5;241;43m.\u001b[39;49m\u001b[43mmode\u001b[49m\u001b[43m,\u001b[49m\n\u001b[1;32m    876\u001b[0m \u001b[43m            \u001b[49m\u001b[43mencoding\u001b[49m\u001b[38;5;241;43m=\u001b[39;49m\u001b[43mioargs\u001b[49m\u001b[38;5;241;43m.\u001b[39;49m\u001b[43mencoding\u001b[49m\u001b[43m,\u001b[49m\n\u001b[1;32m    877\u001b[0m \u001b[43m            \u001b[49m\u001b[43merrors\u001b[49m\u001b[38;5;241;43m=\u001b[39;49m\u001b[43merrors\u001b[49m\u001b[43m,\u001b[49m\n\u001b[1;32m    878\u001b[0m \u001b[43m            \u001b[49m\u001b[43mnewline\u001b[49m\u001b[38;5;241;43m=\u001b[39;49m\u001b[38;5;124;43m\"\u001b[39;49m\u001b[38;5;124;43m\"\u001b[39;49m\u001b[43m,\u001b[49m\n\u001b[1;32m    879\u001b[0m \u001b[43m        \u001b[49m\u001b[43m)\u001b[49m\n\u001b[1;32m    880\u001b[0m     \u001b[38;5;28;01melse\u001b[39;00m:\n\u001b[1;32m    881\u001b[0m         \u001b[38;5;66;03m# Binary mode\u001b[39;00m\n\u001b[1;32m    882\u001b[0m         handle \u001b[38;5;241m=\u001b[39m \u001b[38;5;28mopen\u001b[39m(handle, ioargs\u001b[38;5;241m.\u001b[39mmode)\n",
            "\u001b[0;31mFileNotFoundError\u001b[0m: [Errno 2] No such file or directory: 'asl_landmarks_dataset.csv'"
          ]
        }
      ],
      "source": [
        "#dataset = 'model/keypoint_classifier/keypoint.csv'\n",
        "dataset = pd.read_csv('asl_landmarks_dataset.csv', header=None)\n",
        "y_dataset = dataset.iloc[:, 0]\n",
        "X_dataset = dataset.iloc[:, 1:]\n",
        "\n",
        "\n",
        "model_save_path = 'model/keypoint_classifier/keypoint_classifier.keras'\n",
        "tflite_save_path = 'model/keypoint_classifier/keypoint_classifier.tflite'"
      ]
    },
    {
      "cell_type": "code",
      "execution_count": null,
      "metadata": {},
      "outputs": [],
      "source": [
        "from sklearn.preprocessing import LabelEncoder\n",
        "\n",
        "encoder = LabelEncoder()\n",
        "y_dataset_encoded = encoder.fit_transform(y_dataset)\n"
      ]
    },
    {
      "cell_type": "code",
      "execution_count": null,
      "metadata": {},
      "outputs": [],
      "source": [
        "\n",
        "X_train, X_test, y_train, y_test = train_test_split(\n",
        "    X_dataset, y_dataset_encoded, test_size=0.25, random_state=42\n",
        ")\n"
      ]
    },
    {
      "cell_type": "markdown",
      "metadata": {
        "id": "s5oMH7x19hEz"
      },
      "source": [
        "# Set number of classes"
      ]
    },
    {
      "cell_type": "code",
      "execution_count": null,
      "metadata": {
        "id": "du4kodXL9hEz"
      },
      "outputs": [],
      "source": [
        " #NUM_CLASSES = 26"
      ]
    },
    {
      "cell_type": "markdown",
      "metadata": {
        "id": "XjnL0uso9hEz"
      },
      "source": [
        "# Dataset reading"
      ]
    },
    {
      "cell_type": "code",
      "execution_count": null,
      "metadata": {
        "id": "QT5ZqtEz9hE0"
      },
      "outputs": [],
      "source": [
        "#X_dataset = np.loadtxt(dataset, delimiter=',', dtype='float32', usecols=list(range(1, (21 * 2) + 1)))"
      ]
    },
    {
      "cell_type": "code",
      "execution_count": null,
      "metadata": {
        "id": "QmoKFsp49hE0"
      },
      "outputs": [],
      "source": [
        "#y_dataset = np.loadtxt(dataset, delimiter=',', dtype='int32', usecols=(0))"
      ]
    },
    {
      "cell_type": "code",
      "execution_count": null,
      "metadata": {
        "id": "xQU7JTZ_9hE0"
      },
      "outputs": [],
      "source": [
        "#X_train, X_test, y_train, y_test = train_test_split(X_dataset, y_dataset, train_size=0.75, random_state=RANDOM_SEED)"
      ]
    },
    {
      "cell_type": "markdown",
      "metadata": {
        "id": "mxK_lETT9hE0"
      },
      "source": [
        "# Model building"
      ]
    },
    {
      "cell_type": "code",
      "execution_count": null,
      "metadata": {
        "id": "vHBmUf1t9hE1"
      },
      "outputs": [],
      "source": [
        "#model = tf.keras.models.Sequential([\n",
        "    #tf.keras.layers.Input((21 * 2, )),\n",
        "  #  tf.keras.layers.BatchNormalization(),\n",
        "   # tf.keras.layers.Dense(128, activation='mish', kernel_regularizer=tf.keras.regularizers.l2(0.01)),\n",
        "  #  tf.keras.layers.Dropout(0.5),\n",
        "   # tf.keras.layers.Dense(64, activation='mish', kernel_regularizer=tf.keras.regularizers.l2(0.01)),\n",
        "   # tf.keras.layers.Dropout(0.5),\n",
        "  #  tf.keras.layers.Dense(32, activation='mish', kernel_regularizer=tf.keras.regularizers.l2(0.01)),\n",
        "   # tf.keras.layers.Dense(NUM_CLASSES, activation='softmax')\n",
        "#])\n"
      ]
    },
    {
      "cell_type": "code",
      "execution_count": null,
      "metadata": {},
      "outputs": [
        {
          "data": {
            "text/html": [
              "<pre style=\"white-space:pre;overflow-x:auto;line-height:normal;font-family:Menlo,'DejaVu Sans Mono',consolas,'Courier New',monospace\"><span style=\"font-weight: bold\">Model: \"sequential_4\"</span>\n",
              "</pre>\n"
            ],
            "text/plain": [
              "\u001b[1mModel: \"sequential_4\"\u001b[0m\n"
            ]
          },
          "metadata": {},
          "output_type": "display_data"
        },
        {
          "data": {
            "text/html": [
              "<pre style=\"white-space:pre;overflow-x:auto;line-height:normal;font-family:Menlo,'DejaVu Sans Mono',consolas,'Courier New',monospace\">┏━━━━━━━━━━━━━━━━━━━━━━━━━━━━━━━━━┳━━━━━━━━━━━━━━━━━━━━━━━━┳━━━━━━━━━━━━━━━┓\n",
              "┃<span style=\"font-weight: bold\"> Layer (type)                    </span>┃<span style=\"font-weight: bold\"> Output Shape           </span>┃<span style=\"font-weight: bold\">       Param # </span>┃\n",
              "┡━━━━━━━━━━━━━━━━━━━━━━━━━━━━━━━━━╇━━━━━━━━━━━━━━━━━━━━━━━━╇━━━━━━━━━━━━━━━┩\n",
              "│ batch_normalization_4           │ (<span style=\"color: #00d7ff; text-decoration-color: #00d7ff\">None</span>, <span style=\"color: #00af00; text-decoration-color: #00af00\">42</span>)             │           <span style=\"color: #00af00; text-decoration-color: #00af00\">168</span> │\n",
              "│ (<span style=\"color: #0087ff; text-decoration-color: #0087ff\">BatchNormalization</span>)            │                        │               │\n",
              "├─────────────────────────────────┼────────────────────────┼───────────────┤\n",
              "│ dense_16 (<span style=\"color: #0087ff; text-decoration-color: #0087ff\">Dense</span>)                │ (<span style=\"color: #00d7ff; text-decoration-color: #00d7ff\">None</span>, <span style=\"color: #00af00; text-decoration-color: #00af00\">256</span>)            │        <span style=\"color: #00af00; text-decoration-color: #00af00\">11,008</span> │\n",
              "├─────────────────────────────────┼────────────────────────┼───────────────┤\n",
              "│ dropout_8 (<span style=\"color: #0087ff; text-decoration-color: #0087ff\">Dropout</span>)             │ (<span style=\"color: #00d7ff; text-decoration-color: #00d7ff\">None</span>, <span style=\"color: #00af00; text-decoration-color: #00af00\">256</span>)            │             <span style=\"color: #00af00; text-decoration-color: #00af00\">0</span> │\n",
              "├─────────────────────────────────┼────────────────────────┼───────────────┤\n",
              "│ dense_17 (<span style=\"color: #0087ff; text-decoration-color: #0087ff\">Dense</span>)                │ (<span style=\"color: #00d7ff; text-decoration-color: #00d7ff\">None</span>, <span style=\"color: #00af00; text-decoration-color: #00af00\">128</span>)            │        <span style=\"color: #00af00; text-decoration-color: #00af00\">32,896</span> │\n",
              "├─────────────────────────────────┼────────────────────────┼───────────────┤\n",
              "│ dropout_9 (<span style=\"color: #0087ff; text-decoration-color: #0087ff\">Dropout</span>)             │ (<span style=\"color: #00d7ff; text-decoration-color: #00d7ff\">None</span>, <span style=\"color: #00af00; text-decoration-color: #00af00\">128</span>)            │             <span style=\"color: #00af00; text-decoration-color: #00af00\">0</span> │\n",
              "├─────────────────────────────────┼────────────────────────┼───────────────┤\n",
              "│ dense_18 (<span style=\"color: #0087ff; text-decoration-color: #0087ff\">Dense</span>)                │ (<span style=\"color: #00d7ff; text-decoration-color: #00d7ff\">None</span>, <span style=\"color: #00af00; text-decoration-color: #00af00\">64</span>)             │         <span style=\"color: #00af00; text-decoration-color: #00af00\">8,256</span> │\n",
              "├─────────────────────────────────┼────────────────────────┼───────────────┤\n",
              "│ dense_19 (<span style=\"color: #0087ff; text-decoration-color: #0087ff\">Dense</span>)                │ (<span style=\"color: #00d7ff; text-decoration-color: #00d7ff\">None</span>, <span style=\"color: #00af00; text-decoration-color: #00af00\">3</span>)              │           <span style=\"color: #00af00; text-decoration-color: #00af00\">195</span> │\n",
              "└─────────────────────────────────┴────────────────────────┴───────────────┘\n",
              "</pre>\n"
            ],
            "text/plain": [
              "┏━━━━━━━━━━━━━━━━━━━━━━━━━━━━━━━━━┳━━━━━━━━━━━━━━━━━━━━━━━━┳━━━━━━━━━━━━━━━┓\n",
              "┃\u001b[1m \u001b[0m\u001b[1mLayer (type)                   \u001b[0m\u001b[1m \u001b[0m┃\u001b[1m \u001b[0m\u001b[1mOutput Shape          \u001b[0m\u001b[1m \u001b[0m┃\u001b[1m \u001b[0m\u001b[1m      Param #\u001b[0m\u001b[1m \u001b[0m┃\n",
              "┡━━━━━━━━━━━━━━━━━━━━━━━━━━━━━━━━━╇━━━━━━━━━━━━━━━━━━━━━━━━╇━━━━━━━━━━━━━━━┩\n",
              "│ batch_normalization_4           │ (\u001b[38;5;45mNone\u001b[0m, \u001b[38;5;34m42\u001b[0m)             │           \u001b[38;5;34m168\u001b[0m │\n",
              "│ (\u001b[38;5;33mBatchNormalization\u001b[0m)            │                        │               │\n",
              "├─────────────────────────────────┼────────────────────────┼───────────────┤\n",
              "│ dense_16 (\u001b[38;5;33mDense\u001b[0m)                │ (\u001b[38;5;45mNone\u001b[0m, \u001b[38;5;34m256\u001b[0m)            │        \u001b[38;5;34m11,008\u001b[0m │\n",
              "├─────────────────────────────────┼────────────────────────┼───────────────┤\n",
              "│ dropout_8 (\u001b[38;5;33mDropout\u001b[0m)             │ (\u001b[38;5;45mNone\u001b[0m, \u001b[38;5;34m256\u001b[0m)            │             \u001b[38;5;34m0\u001b[0m │\n",
              "├─────────────────────────────────┼────────────────────────┼───────────────┤\n",
              "│ dense_17 (\u001b[38;5;33mDense\u001b[0m)                │ (\u001b[38;5;45mNone\u001b[0m, \u001b[38;5;34m128\u001b[0m)            │        \u001b[38;5;34m32,896\u001b[0m │\n",
              "├─────────────────────────────────┼────────────────────────┼───────────────┤\n",
              "│ dropout_9 (\u001b[38;5;33mDropout\u001b[0m)             │ (\u001b[38;5;45mNone\u001b[0m, \u001b[38;5;34m128\u001b[0m)            │             \u001b[38;5;34m0\u001b[0m │\n",
              "├─────────────────────────────────┼────────────────────────┼───────────────┤\n",
              "│ dense_18 (\u001b[38;5;33mDense\u001b[0m)                │ (\u001b[38;5;45mNone\u001b[0m, \u001b[38;5;34m64\u001b[0m)             │         \u001b[38;5;34m8,256\u001b[0m │\n",
              "├─────────────────────────────────┼────────────────────────┼───────────────┤\n",
              "│ dense_19 (\u001b[38;5;33mDense\u001b[0m)                │ (\u001b[38;5;45mNone\u001b[0m, \u001b[38;5;34m3\u001b[0m)              │           \u001b[38;5;34m195\u001b[0m │\n",
              "└─────────────────────────────────┴────────────────────────┴───────────────┘\n"
            ]
          },
          "metadata": {},
          "output_type": "display_data"
        },
        {
          "data": {
            "text/html": [
              "<pre style=\"white-space:pre;overflow-x:auto;line-height:normal;font-family:Menlo,'DejaVu Sans Mono',consolas,'Courier New',monospace\"><span style=\"font-weight: bold\"> Total params: </span><span style=\"color: #00af00; text-decoration-color: #00af00\">52,523</span> (205.17 KB)\n",
              "</pre>\n"
            ],
            "text/plain": [
              "\u001b[1m Total params: \u001b[0m\u001b[38;5;34m52,523\u001b[0m (205.17 KB)\n"
            ]
          },
          "metadata": {},
          "output_type": "display_data"
        },
        {
          "data": {
            "text/html": [
              "<pre style=\"white-space:pre;overflow-x:auto;line-height:normal;font-family:Menlo,'DejaVu Sans Mono',consolas,'Courier New',monospace\"><span style=\"font-weight: bold\"> Trainable params: </span><span style=\"color: #00af00; text-decoration-color: #00af00\">52,439</span> (204.84 KB)\n",
              "</pre>\n"
            ],
            "text/plain": [
              "\u001b[1m Trainable params: \u001b[0m\u001b[38;5;34m52,439\u001b[0m (204.84 KB)\n"
            ]
          },
          "metadata": {},
          "output_type": "display_data"
        },
        {
          "data": {
            "text/html": [
              "<pre style=\"white-space:pre;overflow-x:auto;line-height:normal;font-family:Menlo,'DejaVu Sans Mono',consolas,'Courier New',monospace\"><span style=\"font-weight: bold\"> Non-trainable params: </span><span style=\"color: #00af00; text-decoration-color: #00af00\">84</span> (336.00 B)\n",
              "</pre>\n"
            ],
            "text/plain": [
              "\u001b[1m Non-trainable params: \u001b[0m\u001b[38;5;34m84\u001b[0m (336.00 B)\n"
            ]
          },
          "metadata": {},
          "output_type": "display_data"
        }
      ],
      "source": [
        "import tensorflow as tf\n",
        "\n",
        "model = tf.keras.Sequential([\n",
        "    tf.keras.layers.Input((42,)),\n",
        "    tf.keras.layers.BatchNormalization(),\n",
        "    tf.keras.layers.Dense(256, activation='relu'),\n",
        "    tf.keras.layers.Dropout(0.3),\n",
        "    tf.keras.layers.Dense(128, activation='relu'),\n",
        "    tf.keras.layers.Dropout(0.3),\n",
        "    tf.keras.layers.Dense(64, activation='relu'),\n",
        "    tf.keras.layers.Dense(3, activation='softmax')  # 3 letters: A, B, C\n",
        "])\n",
        "\n",
        "model.compile(\n",
        "    optimizer='adam',\n",
        "    loss='sparse_categorical_crossentropy',\n",
        "    metrics=['accuracy']\n",
        ")\n",
        "\n",
        "model.summary()\n"
      ]
    },
    {
      "cell_type": "code",
      "execution_count": null,
      "metadata": {},
      "outputs": [
        {
          "name": "stdout",
          "output_type": "stream",
          "text": [
            "Epoch 1/100\n",
            "30/30 - 1s - 31ms/step - accuracy: 0.6835 - loss: 0.7804 - val_accuracy: 0.4625 - val_loss: 0.9336\n",
            "Epoch 2/100\n",
            "30/30 - 0s - 3ms/step - accuracy: 0.8692 - loss: 0.4038 - val_accuracy: 0.5125 - val_loss: 0.7682\n",
            "Epoch 3/100\n",
            "30/30 - 0s - 3ms/step - accuracy: 0.9114 - loss: 0.2806 - val_accuracy: 0.7750 - val_loss: 0.6030\n",
            "Epoch 4/100\n",
            "30/30 - 0s - 3ms/step - accuracy: 0.9662 - loss: 0.1588 - val_accuracy: 0.8250 - val_loss: 0.4862\n",
            "Epoch 5/100\n",
            "30/30 - 0s - 3ms/step - accuracy: 0.9578 - loss: 0.1094 - val_accuracy: 0.9625 - val_loss: 0.2851\n",
            "Epoch 6/100\n",
            "30/30 - 0s - 3ms/step - accuracy: 0.9494 - loss: 0.1278 - val_accuracy: 0.9375 - val_loss: 0.2471\n",
            "Epoch 7/100\n",
            "30/30 - 0s - 3ms/step - accuracy: 0.9536 - loss: 0.1661 - val_accuracy: 0.9750 - val_loss: 0.2002\n",
            "Epoch 8/100\n",
            "30/30 - 0s - 3ms/step - accuracy: 0.9494 - loss: 0.1677 - val_accuracy: 1.0000 - val_loss: 0.1419\n",
            "Epoch 9/100\n",
            "30/30 - 0s - 3ms/step - accuracy: 0.9536 - loss: 0.1335 - val_accuracy: 1.0000 - val_loss: 0.0715\n",
            "Epoch 10/100\n",
            "30/30 - 0s - 3ms/step - accuracy: 0.9451 - loss: 0.1130 - val_accuracy: 0.9875 - val_loss: 0.0638\n",
            "Epoch 11/100\n",
            "30/30 - 0s - 3ms/step - accuracy: 0.9662 - loss: 0.0958 - val_accuracy: 1.0000 - val_loss: 0.0316\n",
            "Epoch 12/100\n",
            "30/30 - 0s - 3ms/step - accuracy: 0.9662 - loss: 0.1344 - val_accuracy: 1.0000 - val_loss: 0.0163\n",
            "Epoch 13/100\n",
            "30/30 - 0s - 3ms/step - accuracy: 0.9578 - loss: 0.1181 - val_accuracy: 1.0000 - val_loss: 0.0098\n",
            "Epoch 14/100\n",
            "30/30 - 0s - 3ms/step - accuracy: 0.9578 - loss: 0.0915 - val_accuracy: 1.0000 - val_loss: 0.0052\n",
            "Epoch 15/100\n",
            "30/30 - 0s - 3ms/step - accuracy: 0.9705 - loss: 0.1281 - val_accuracy: 1.0000 - val_loss: 0.0047\n",
            "Epoch 16/100\n",
            "30/30 - 0s - 3ms/step - accuracy: 0.9831 - loss: 0.0577 - val_accuracy: 1.0000 - val_loss: 0.0025\n",
            "Epoch 17/100\n",
            "30/30 - 0s - 3ms/step - accuracy: 0.9789 - loss: 0.0689 - val_accuracy: 1.0000 - val_loss: 0.0021\n",
            "Epoch 18/100\n",
            "30/30 - 0s - 3ms/step - accuracy: 0.9620 - loss: 0.1341 - val_accuracy: 1.0000 - val_loss: 0.0034\n",
            "Epoch 19/100\n",
            "30/30 - 0s - 3ms/step - accuracy: 0.9578 - loss: 0.1117 - val_accuracy: 0.9875 - val_loss: 0.0199\n",
            "Epoch 20/100\n",
            "30/30 - 0s - 3ms/step - accuracy: 0.9747 - loss: 0.0675 - val_accuracy: 1.0000 - val_loss: 0.0097\n",
            "Epoch 21/100\n",
            "30/30 - 0s - 3ms/step - accuracy: 0.9620 - loss: 0.1341 - val_accuracy: 1.0000 - val_loss: 0.0022\n",
            "Epoch 22/100\n",
            "30/30 - 0s - 3ms/step - accuracy: 0.9873 - loss: 0.0254 - val_accuracy: 1.0000 - val_loss: 2.6932e-04\n",
            "Epoch 23/100\n",
            "30/30 - 0s - 3ms/step - accuracy: 0.9831 - loss: 0.0370 - val_accuracy: 1.0000 - val_loss: 2.4088e-04\n",
            "Epoch 24/100\n",
            "30/30 - 0s - 3ms/step - accuracy: 0.9789 - loss: 0.0697 - val_accuracy: 1.0000 - val_loss: 3.1919e-04\n",
            "Epoch 25/100\n",
            "30/30 - 0s - 3ms/step - accuracy: 0.9831 - loss: 0.0525 - val_accuracy: 0.9875 - val_loss: 0.0215\n",
            "Epoch 26/100\n",
            "30/30 - 0s - 3ms/step - accuracy: 0.9873 - loss: 0.0560 - val_accuracy: 0.9875 - val_loss: 0.0113\n",
            "Epoch 27/100\n",
            "30/30 - 0s - 3ms/step - accuracy: 0.9451 - loss: 0.1686 - val_accuracy: 1.0000 - val_loss: 0.0029\n",
            "Epoch 28/100\n",
            "30/30 - 0s - 3ms/step - accuracy: 0.9958 - loss: 0.0252 - val_accuracy: 1.0000 - val_loss: 0.0011\n",
            "Epoch 29/100\n",
            "30/30 - 0s - 4ms/step - accuracy: 0.9789 - loss: 0.0617 - val_accuracy: 1.0000 - val_loss: 2.6388e-04\n",
            "Epoch 30/100\n",
            "30/30 - 0s - 3ms/step - accuracy: 0.9747 - loss: 0.0541 - val_accuracy: 1.0000 - val_loss: 3.1048e-04\n",
            "Epoch 31/100\n",
            "30/30 - 0s - 3ms/step - accuracy: 0.9789 - loss: 0.0668 - val_accuracy: 1.0000 - val_loss: 0.0028\n",
            "Epoch 32/100\n",
            "30/30 - 0s - 3ms/step - accuracy: 0.9747 - loss: 0.0546 - val_accuracy: 1.0000 - val_loss: 0.0021\n",
            "Epoch 33/100\n",
            "30/30 - 0s - 3ms/step - accuracy: 0.9705 - loss: 0.1032 - val_accuracy: 0.9875 - val_loss: 0.0602\n",
            "Epoch 34/100\n",
            "30/30 - 0s - 3ms/step - accuracy: 0.9705 - loss: 0.0798 - val_accuracy: 1.0000 - val_loss: 2.3360e-04\n",
            "Epoch 35/100\n",
            "30/30 - 0s - 3ms/step - accuracy: 0.9747 - loss: 0.0927 - val_accuracy: 1.0000 - val_loss: 2.5357e-04\n",
            "Epoch 36/100\n",
            "30/30 - 0s - 3ms/step - accuracy: 0.9831 - loss: 0.0598 - val_accuracy: 1.0000 - val_loss: 3.2076e-04\n",
            "Epoch 37/100\n",
            "30/30 - 0s - 3ms/step - accuracy: 0.9873 - loss: 0.0408 - val_accuracy: 1.0000 - val_loss: 1.4760e-04\n",
            "Epoch 38/100\n",
            "30/30 - 0s - 3ms/step - accuracy: 0.9747 - loss: 0.0717 - val_accuracy: 1.0000 - val_loss: 2.1176e-04\n",
            "Epoch 39/100\n",
            "30/30 - 0s - 3ms/step - accuracy: 0.9873 - loss: 0.0299 - val_accuracy: 1.0000 - val_loss: 1.2916e-04\n",
            "Epoch 40/100\n",
            "30/30 - 0s - 3ms/step - accuracy: 0.9789 - loss: 0.0781 - val_accuracy: 1.0000 - val_loss: 1.2239e-04\n",
            "Epoch 41/100\n",
            "30/30 - 0s - 3ms/step - accuracy: 0.9958 - loss: 0.0141 - val_accuracy: 0.9875 - val_loss: 0.0585\n",
            "Epoch 42/100\n",
            "30/30 - 0s - 3ms/step - accuracy: 0.9705 - loss: 0.1032 - val_accuracy: 1.0000 - val_loss: 2.7740e-04\n",
            "Epoch 43/100\n",
            "30/30 - 0s - 3ms/step - accuracy: 0.9747 - loss: 0.0764 - val_accuracy: 1.0000 - val_loss: 2.1373e-04\n",
            "Epoch 44/100\n",
            "30/30 - 0s - 3ms/step - accuracy: 0.9578 - loss: 0.1586 - val_accuracy: 1.0000 - val_loss: 0.0031\n",
            "Epoch 45/100\n",
            "30/30 - 0s - 3ms/step - accuracy: 0.9705 - loss: 0.0840 - val_accuracy: 1.0000 - val_loss: 0.0027\n",
            "Epoch 46/100\n",
            "30/30 - 0s - 3ms/step - accuracy: 0.9747 - loss: 0.0561 - val_accuracy: 1.0000 - val_loss: 4.1319e-04\n",
            "Epoch 47/100\n",
            "30/30 - 0s - 3ms/step - accuracy: 0.9958 - loss: 0.0265 - val_accuracy: 1.0000 - val_loss: 3.3415e-04\n",
            "Epoch 48/100\n",
            "30/30 - 0s - 3ms/step - accuracy: 0.9789 - loss: 0.0771 - val_accuracy: 0.9875 - val_loss: 0.0176\n",
            "Epoch 49/100\n",
            "30/30 - 0s - 3ms/step - accuracy: 0.9747 - loss: 0.0881 - val_accuracy: 0.9875 - val_loss: 0.0470\n",
            "Epoch 50/100\n",
            "30/30 - 0s - 3ms/step - accuracy: 0.9916 - loss: 0.0332 - val_accuracy: 1.0000 - val_loss: 3.6178e-04\n",
            "Epoch 51/100\n",
            "30/30 - 0s - 3ms/step - accuracy: 0.9705 - loss: 0.1371 - val_accuracy: 1.0000 - val_loss: 2.6760e-04\n",
            "Epoch 52/100\n",
            "30/30 - 0s - 3ms/step - accuracy: 0.9620 - loss: 0.0964 - val_accuracy: 0.9875 - val_loss: 0.0135\n",
            "Epoch 53/100\n",
            "30/30 - 0s - 3ms/step - accuracy: 0.9873 - loss: 0.0454 - val_accuracy: 1.0000 - val_loss: 0.0046\n",
            "Epoch 54/100\n",
            "30/30 - 0s - 3ms/step - accuracy: 0.9662 - loss: 0.0796 - val_accuracy: 1.0000 - val_loss: 3.0979e-04\n",
            "Epoch 55/100\n",
            "30/30 - 0s - 3ms/step - accuracy: 0.9873 - loss: 0.0340 - val_accuracy: 1.0000 - val_loss: 3.2324e-04\n",
            "Epoch 56/100\n",
            "30/30 - 0s - 3ms/step - accuracy: 0.9620 - loss: 0.1514 - val_accuracy: 1.0000 - val_loss: 0.0012\n",
            "Epoch 57/100\n",
            "30/30 - 0s - 3ms/step - accuracy: 0.9916 - loss: 0.0487 - val_accuracy: 1.0000 - val_loss: 0.0061\n",
            "Epoch 58/100\n",
            "30/30 - 0s - 3ms/step - accuracy: 0.9873 - loss: 0.0623 - val_accuracy: 1.0000 - val_loss: 0.0016\n",
            "Epoch 59/100\n",
            "30/30 - 0s - 3ms/step - accuracy: 0.9916 - loss: 0.0292 - val_accuracy: 1.0000 - val_loss: 0.0019\n",
            "Epoch 60/100\n",
            "30/30 - 0s - 3ms/step - accuracy: 0.9831 - loss: 0.0513 - val_accuracy: 1.0000 - val_loss: 0.0018\n",
            "Epoch 61/100\n",
            "30/30 - 0s - 3ms/step - accuracy: 0.9916 - loss: 0.0312 - val_accuracy: 1.0000 - val_loss: 0.0029\n",
            "Epoch 62/100\n",
            "30/30 - 0s - 3ms/step - accuracy: 0.9831 - loss: 0.0957 - val_accuracy: 0.9875 - val_loss: 0.0630\n",
            "Epoch 63/100\n",
            "30/30 - 0s - 3ms/step - accuracy: 0.9705 - loss: 0.0721 - val_accuracy: 1.0000 - val_loss: 1.4564e-04\n",
            "Epoch 64/100\n",
            "30/30 - 0s - 3ms/step - accuracy: 0.9831 - loss: 0.0510 - val_accuracy: 1.0000 - val_loss: 2.5879e-04\n",
            "Epoch 65/100\n",
            "30/30 - 0s - 3ms/step - accuracy: 0.9958 - loss: 0.0391 - val_accuracy: 1.0000 - val_loss: 0.0014\n",
            "Epoch 66/100\n",
            "30/30 - 0s - 3ms/step - accuracy: 0.9831 - loss: 0.0440 - val_accuracy: 1.0000 - val_loss: 1.0269e-04\n",
            "Epoch 67/100\n",
            "30/30 - 0s - 3ms/step - accuracy: 0.9916 - loss: 0.0225 - val_accuracy: 1.0000 - val_loss: 1.0011e-04\n",
            "Epoch 68/100\n",
            "30/30 - 0s - 3ms/step - accuracy: 0.9916 - loss: 0.0305 - val_accuracy: 1.0000 - val_loss: 5.7189e-05\n",
            "Epoch 69/100\n",
            "30/30 - 0s - 3ms/step - accuracy: 0.9916 - loss: 0.0326 - val_accuracy: 1.0000 - val_loss: 4.3405e-05\n",
            "Epoch 70/100\n",
            "30/30 - 0s - 3ms/step - accuracy: 0.9916 - loss: 0.0281 - val_accuracy: 1.0000 - val_loss: 1.0785e-04\n",
            "Epoch 71/100\n",
            "30/30 - 0s - 3ms/step - accuracy: 0.9747 - loss: 0.0792 - val_accuracy: 1.0000 - val_loss: 3.8845e-04\n",
            "Epoch 72/100\n",
            "30/30 - 0s - 4ms/step - accuracy: 0.9916 - loss: 0.0313 - val_accuracy: 1.0000 - val_loss: 4.9406e-05\n",
            "Epoch 73/100\n",
            "30/30 - 0s - 4ms/step - accuracy: 0.9789 - loss: 0.0800 - val_accuracy: 1.0000 - val_loss: 2.4144e-05\n",
            "Epoch 74/100\n",
            "30/30 - 0s - 3ms/step - accuracy: 0.9916 - loss: 0.0322 - val_accuracy: 1.0000 - val_loss: 0.0029\n",
            "Epoch 75/100\n",
            "30/30 - 0s - 3ms/step - accuracy: 0.9916 - loss: 0.0537 - val_accuracy: 1.0000 - val_loss: 3.0858e-04\n",
            "Epoch 76/100\n",
            "30/30 - 0s - 3ms/step - accuracy: 0.9831 - loss: 0.0289 - val_accuracy: 1.0000 - val_loss: 1.4396e-04\n",
            "Epoch 77/100\n",
            "30/30 - 0s - 5ms/step - accuracy: 0.9831 - loss: 0.0501 - val_accuracy: 0.9875 - val_loss: 0.0331\n",
            "Epoch 78/100\n",
            "30/30 - 0s - 3ms/step - accuracy: 0.9916 - loss: 0.0381 - val_accuracy: 0.9875 - val_loss: 0.0125\n",
            "Epoch 79/100\n",
            "30/30 - 0s - 3ms/step - accuracy: 0.9873 - loss: 0.0512 - val_accuracy: 1.0000 - val_loss: 5.3590e-04\n",
            "Epoch 80/100\n",
            "30/30 - 0s - 3ms/step - accuracy: 0.9958 - loss: 0.0275 - val_accuracy: 1.0000 - val_loss: 0.0074\n",
            "Epoch 81/100\n",
            "30/30 - 0s - 3ms/step - accuracy: 0.9916 - loss: 0.0326 - val_accuracy: 1.0000 - val_loss: 8.4312e-04\n",
            "Epoch 82/100\n",
            "30/30 - 0s - 3ms/step - accuracy: 0.9831 - loss: 0.0515 - val_accuracy: 1.0000 - val_loss: 0.0035\n",
            "Epoch 83/100\n",
            "30/30 - 0s - 3ms/step - accuracy: 0.9873 - loss: 0.0358 - val_accuracy: 1.0000 - val_loss: 8.2199e-05\n",
            "Epoch 84/100\n",
            "30/30 - 0s - 3ms/step - accuracy: 0.9958 - loss: 0.0141 - val_accuracy: 1.0000 - val_loss: 3.3774e-05\n",
            "Epoch 85/100\n",
            "30/30 - 0s - 3ms/step - accuracy: 0.9873 - loss: 0.0349 - val_accuracy: 1.0000 - val_loss: 9.5620e-04\n",
            "Epoch 86/100\n",
            "30/30 - 0s - 3ms/step - accuracy: 0.9916 - loss: 0.0347 - val_accuracy: 1.0000 - val_loss: 0.0012\n",
            "Epoch 87/100\n",
            "30/30 - 0s - 3ms/step - accuracy: 0.9705 - loss: 0.0804 - val_accuracy: 0.9875 - val_loss: 0.0149\n",
            "Epoch 88/100\n",
            "30/30 - 0s - 3ms/step - accuracy: 0.9662 - loss: 0.0895 - val_accuracy: 1.0000 - val_loss: 1.2140e-04\n",
            "Epoch 89/100\n",
            "30/30 - 0s - 3ms/step - accuracy: 0.9873 - loss: 0.0399 - val_accuracy: 1.0000 - val_loss: 3.1867e-04\n",
            "Epoch 90/100\n",
            "30/30 - 0s - 3ms/step - accuracy: 0.9916 - loss: 0.0202 - val_accuracy: 0.9875 - val_loss: 0.0562\n",
            "Epoch 91/100\n",
            "30/30 - 0s - 3ms/step - accuracy: 0.9705 - loss: 0.1228 - val_accuracy: 1.0000 - val_loss: 3.9005e-04\n",
            "Epoch 92/100\n",
            "30/30 - 0s - 3ms/step - accuracy: 0.9916 - loss: 0.0326 - val_accuracy: 0.9875 - val_loss: 0.0343\n",
            "Epoch 93/100\n",
            "30/30 - 0s - 5ms/step - accuracy: 0.9873 - loss: 0.0482 - val_accuracy: 0.9875 - val_loss: 0.0383\n",
            "Epoch 94/100\n",
            "30/30 - 0s - 3ms/step - accuracy: 0.9831 - loss: 0.0824 - val_accuracy: 1.0000 - val_loss: 0.0027\n",
            "Epoch 95/100\n",
            "30/30 - 0s - 3ms/step - accuracy: 0.9873 - loss: 0.0268 - val_accuracy: 1.0000 - val_loss: 6.6336e-04\n",
            "Epoch 96/100\n",
            "30/30 - 0s - 3ms/step - accuracy: 0.9916 - loss: 0.0258 - val_accuracy: 1.0000 - val_loss: 0.0065\n",
            "Epoch 97/100\n",
            "30/30 - 0s - 3ms/step - accuracy: 0.9916 - loss: 0.0166 - val_accuracy: 1.0000 - val_loss: 5.2165e-04\n",
            "Epoch 98/100\n",
            "30/30 - 0s - 3ms/step - accuracy: 0.9958 - loss: 0.0133 - val_accuracy: 1.0000 - val_loss: 4.6228e-04\n",
            "Epoch 99/100\n",
            "30/30 - 0s - 3ms/step - accuracy: 0.9916 - loss: 0.0488 - val_accuracy: 1.0000 - val_loss: 0.0017\n",
            "Epoch 100/100\n",
            "30/30 - 0s - 3ms/step - accuracy: 0.9747 - loss: 0.0477 - val_accuracy: 1.0000 - val_loss: 3.0790e-04\n"
          ]
        }
      ],
      "source": [
        "history = model.fit(\n",
        "    X_train,\n",
        "    y_train,\n",
        "    epochs=100,\n",
        "    batch_size=8,\n",
        "    validation_data=(X_test, y_test),\n",
        "    verbose=2\n",
        ")\n"
      ]
    },
    {
      "cell_type": "code",
      "execution_count": null,
      "metadata": {
        "colab": {
          "base_uri": "https://localhost:8080/"
        },
        "id": "ypqky9tc9hE1",
        "outputId": "5db082bb-30e3-4110-bf63-a1ee777ecd46"
      },
      "outputs": [],
      "source": [
        "#model.summary()  # tf.keras.utils.plot_model(model, show_shapes=True)"
      ]
    },
    {
      "cell_type": "code",
      "execution_count": null,
      "metadata": {
        "id": "MbMjOflQ9hE1"
      },
      "outputs": [],
      "source": [
        "# Model checkpoint callback\n",
        "#cp_callback = tf.keras.callbacks.ModelCheckpoint(\n",
        "    #model_save_path, verbose=1, save_weights_only=False)\n",
        "# Callback for early stopping\n",
        "#es_callback = tf.keras.callbacks.EarlyStopping(patience=20, verbose=1)"
      ]
    },
    {
      "cell_type": "code",
      "execution_count": null,
      "metadata": {
        "id": "c3Dac0M_9hE2"
      },
      "outputs": [],
      "source": [
        "# Model compilation\n",
        "#model.compile(\n",
        "    #optimizer='Adam',\n",
        "    #loss='sparse_categorical_crossentropy',\n",
        "   # metrics=['accuracy']\n",
        "#)"
      ]
    },
    {
      "cell_type": "code",
      "execution_count": null,
      "metadata": {},
      "outputs": [
        {
          "name": "stderr",
          "output_type": "stream",
          "text": [
            "WARNING:absl:You are saving your model as an HDF5 file via `model.save()` or `keras.saving.save_model(model)`. This file format is considered legacy. We recommend using instead the native Keras format, e.g. `model.save('my_model.keras')` or `keras.saving.save_model(model, 'my_model.keras')`. \n"
          ]
        }
      ],
      "source": [
        "model.save('new_hand_model.h5')\n"
      ]
    },
    {
      "cell_type": "markdown",
      "metadata": {
        "id": "7XI0j1Iu9hE2"
      },
      "source": [
        "# Model training"
      ]
    },
    {
      "cell_type": "code",
      "execution_count": null,
      "metadata": {
        "colab": {
          "base_uri": "https://localhost:8080/"
        },
        "id": "WirBl-JE9hE3",
        "outputId": "71b30ca2-8294-4d9d-8aa2-800d90d399de",
        "scrolled": true
      },
      "outputs": [],
      "source": [
        "#model.fit(\n",
        "   # X_train,\n",
        "   # y_train,\n",
        "    #epochs=1000,\n",
        "   # batch_size=128,\n",
        "    #validation_data=(X_test, y_test),\n",
        "   # callbacks=[cp_callback, es_callback]\n",
        "#)"
      ]
    },
    {
      "cell_type": "code",
      "execution_count": null,
      "metadata": {
        "colab": {
          "base_uri": "https://localhost:8080/"
        },
        "id": "pxvb2Y299hE3",
        "outputId": "59eb3185-2e37-4b9e-bc9d-ab1b8ac29b7f"
      },
      "outputs": [
        {
          "name": "stdout",
          "output_type": "stream",
          "text": [
            "\u001b[1m3/3\u001b[0m \u001b[32m━━━━━━━━━━━━━━━━━━━━\u001b[0m\u001b[37m\u001b[0m \u001b[1m0s\u001b[0m 7ms/step - accuracy: 1.0000 - loss: 2.6274e-04  \n",
            "Validation Accuracy: 100.00%\n"
          ]
        }
      ],
      "source": [
        "# Model evaluation\n",
        "val_loss, val_acc = model.evaluate(X_test, y_test)\n",
        "print(f\"Validation Accuracy: {val_acc * 100:.2f}%\")\n"
      ]
    },
    {
      "cell_type": "code",
      "execution_count": null,
      "metadata": {
        "id": "RBkmDeUW9hE4"
      },
      "outputs": [],
      "source": [
        "# Loading the saved model\n",
        "#model = tf.keras.models.load_model(model_save_path)"
      ]
    },
    {
      "cell_type": "code",
      "execution_count": null,
      "metadata": {
        "colab": {
          "base_uri": "https://localhost:8080/"
        },
        "id": "tFz9Tb0I9hE4",
        "outputId": "1c3b3528-54ae-4ee2-ab04-77429211cbef"
      },
      "outputs": [],
      "source": [
        "# Inference test\n",
        "#predict_result = model.predict(np.array([X_test[0]]))\n",
        "\n",
        "#print(np.squeeze(predict_result))\n",
        "#print(np.argmax(np.squeeze(predict_result)))"
      ]
    },
    {
      "cell_type": "markdown",
      "metadata": {
        "id": "S3U4yNWx9hE4"
      },
      "source": [
        "# Confusion matrix"
      ]
    },
    {
      "cell_type": "code",
      "execution_count": null,
      "metadata": {
        "colab": {
          "base_uri": "https://localhost:8080/",
          "height": 582
        },
        "id": "AP1V6SCk9hE5",
        "outputId": "08e41a80-7a4a-4619-8125-ecc371368d19"
      },
      "outputs": [
        {
          "name": "stdout",
          "output_type": "stream",
          "text": [
            "\u001b[1m3/3\u001b[0m \u001b[32m━━━━━━━━━━━━━━━━━━━━\u001b[0m\u001b[37m\u001b[0m \u001b[1m0s\u001b[0m 21ms/step\n"
          ]
        },
        {
          "data": {
            "image/png": "[encoded data removed]",
            "text/plain": [
              "<Figure size 800x600 with 2 Axes>"
            ]
          },
          "metadata": {},
          "output_type": "display_data"
        }
      ],
      "source": [
        "def plot_confusion_matrix(y_true, y_pred, classes):\n",
        "    cm = confusion_matrix(y_true, y_pred)\n",
        "    plt.figure(figsize=(8, 6))\n",
        "    sns.heatmap(cm, annot=True, fmt='d', cmap='Blues', xticklabels=classes, yticklabels=classes)\n",
        "    plt.xlabel('Predicted')\n",
        "    plt.ylabel('True')\n",
        "    plt.show()\n",
        "\n",
        "# Predict on test set\n",
        "y_pred = np.argmax(model.predict(X_test), axis=1)\n",
        "\n",
        "# Plot confusion matrix\n",
        "plot_confusion_matrix(y_test, y_pred, encoder.classes_)\n"
      ]
    },
    {
      "cell_type": "markdown",
      "metadata": {
        "id": "FNP6aqzc9hE5"
      },
      "source": [
        "# Convert to model for Tensorflow-Lite"
      ]
    },
    {
      "cell_type": "code",
      "execution_count": null,
      "metadata": {
        "id": "ODjnYyld9hE6"
      },
      "outputs": [],
      "source": [
        "# Save as a model dedicated to inference\n",
        "#model.save('keypoint_classifier.h5')\n",
        "\n",
        "#model.save('new_hand_model.h5')\n"
      ]
    },
    {
      "cell_type": "code",
      "execution_count": null,
      "metadata": {},
      "outputs": [],
      "source": []
    },
    {
      "cell_type": "code",
      "execution_count": null,
      "metadata": {
        "colab": {
          "base_uri": "https://localhost:8080/"
        },
        "id": "zRfuK8Y59hE6",
        "outputId": "a4ca585c-b5d5-4244-8291-8674063209bb"
      },
      "outputs": [],
      "source": [
        "# Transform model (quantization)\n",
        "\n",
        "#converter = tf.lite.TFLiteConverter.from_keras_model(model)\n",
        "#converter.optimizations = [tf.lite.Optimize.DEFAULT]\n",
        "#tflite_quantized_model = converter.convert()\n",
        "\n",
        "#open(tflite_save_path, 'wb').write(tflite_quantized_model)"
      ]
    },
    {
      "cell_type": "markdown",
      "metadata": {
        "id": "CHBPBXdx9hE6"
      },
      "source": [
        "# Inference test"
      ]
    },
    {
      "cell_type": "code",
      "execution_count": null,
      "metadata": {
        "id": "mGAzLocO9hE7"
      },
      "outputs": [],
      "source": [
        "#interpreter = tf.lite.Interpreter(model_path=tflite_save_path)\n",
        "#interpreter.allocate_tensors()"
      ]
    },
    {
      "cell_type": "code",
      "execution_count": null,
      "metadata": {
        "id": "oQuDK8YS9hE7"
      },
      "outputs": [],
      "source": [
        "# Get I / O tensor\n",
        "#input_details = interpreter.get_input_details()\n",
        "#output_details = interpreter.get_output_details()"
      ]
    },
    {
      "cell_type": "code",
      "execution_count": null,
      "metadata": {
        "id": "2_ixAf_l9hE7"
      },
      "outputs": [],
      "source": [
        "#interpreter.set_tensor(input_details[0]['index'], np.array([X_test[0]]))"
      ]
    },
    {
      "cell_type": "code",
      "execution_count": null,
      "metadata": {
        "colab": {
          "base_uri": "https://localhost:8080/"
        },
        "id": "s4FoAnuc9hE7",
        "outputId": "91f18257-8d8b-4ef3-c558-e9b5f94fabbf",
        "scrolled": true
      },
      "outputs": [],
      "source": [
        "#%%time\n",
        "# Inference implementation\n",
        "#interpreter.invoke()\n",
        "#tflite_results = interpreter.get_tensor(output_details[0]['index'])"
      ]
    },
    {
      "cell_type": "code",
      "execution_count": null,
      "metadata": {
        "colab": {
          "base_uri": "https://localhost:8080/"
        },
        "id": "vONjp19J9hE8",
        "outputId": "77205e24-fd00-42c4-f7b6-e06e527c2cba"
      },
      "outputs": [],
      "source": [
        "#print(np.squeeze(tflite_results))\n",
        "#print(np.argmax(np.squeeze(tflite_results)))"
      ]
    }
  ],
  "metadata": {
    "accelerator": "GPU",
    "colab": {
      "collapsed_sections": [],
      "name": "keypoint_classification_EN.ipynb",
      "provenance": [],
      "toc_visible": true
    },
    "kernelspec": {
      "display_name": "Python 3",
      "language": "python",
      "name": "python3"
    },
    "language_info": {
      "codemirror_mode": {
        "name": "ipython",
        "version": 3
      },
      "file_extension": ".py",
      "mimetype": "text/x-python",
      "name": "python",
      "nbconvert_exporter": "python",
      "pygments_lexer": "ipython3",
      "version": "3.9.6"
    }
  },
  "nbformat": 4,
  "nbformat_minor": 0
}
