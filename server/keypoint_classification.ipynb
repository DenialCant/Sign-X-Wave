{
  "cells": [
    {
      "cell_type": "code",
      "execution_count": 89,
      "metadata": {
        "id": "igMyGnjE9hEp"
      },
      "outputs": [],
      "source": [
        "import csv\n",
        "import pandas as pd\n",
        "import numpy as np\n",
        "import tensorflow as tf\n",
        "from sklearn.model_selection import train_test_split\n",
        "from sklearn.preprocessing import LabelEncoder\n",
        "import matplotlib.pyplot as plt\n",
        "import seaborn as sns\n",
        "from sklearn.metrics import confusion_matrix, classification_report\n",
        "\n"
      ]
    },
    {
      "cell_type": "markdown",
      "metadata": {
        "id": "t2HDvhIu9hEr"
      },
      "source": [
        "# Specify each path"
      ]
    },
    {
      "cell_type": "code",
      "execution_count": 90,
      "metadata": {
        "id": "9NvZP2Zn9hEy"
      },
      "outputs": [],
      "source": [
        "#dataset = 'model/keypoint_classifier/keypoint.csv'\n",
        "dataset = pd.read_csv('asl_landmarks_dataset.csv', header=None)\n",
        "y_dataset = dataset.iloc[:, 0]\n",
        "X_dataset = dataset.iloc[:, 1:]\n",
        "\n",
        "\n",
        "model_save_path = 'model/keypoint_classifier/keypoint_classifier.keras'\n",
        "tflite_save_path = 'model/keypoint_classifier/keypoint_classifier.tflite'"
      ]
    },
    {
      "cell_type": "code",
      "execution_count": 91,
      "metadata": {},
      "outputs": [],
      "source": [
        "from sklearn.preprocessing import LabelEncoder\n",
        "\n",
        "encoder = LabelEncoder()\n",
        "y_dataset_encoded = encoder.fit_transform(y_dataset)\n"
      ]
    },
    {
      "cell_type": "code",
      "execution_count": 92,
      "metadata": {},
      "outputs": [],
      "source": [
        "\n",
        "X_train, X_test, y_train, y_test = train_test_split(\n",
        "    X_dataset, y_dataset_encoded, test_size=0.25, random_state=42\n",
        ")\n"
      ]
    },
    {
      "cell_type": "markdown",
      "metadata": {
        "id": "s5oMH7x19hEz"
      },
      "source": [
        "# Set number of classes"
      ]
    },
    {
      "cell_type": "code",
      "execution_count": 93,
      "metadata": {
        "id": "du4kodXL9hEz"
      },
      "outputs": [],
      "source": [
        " #NUM_CLASSES = 26"
      ]
    },
    {
      "cell_type": "markdown",
      "metadata": {
        "id": "XjnL0uso9hEz"
      },
      "source": [
        "# Dataset reading"
      ]
    },
    {
      "cell_type": "code",
      "execution_count": 94,
      "metadata": {
        "id": "QT5ZqtEz9hE0"
      },
      "outputs": [],
      "source": [
        "#X_dataset = np.loadtxt(dataset, delimiter=',', dtype='float32', usecols=list(range(1, (21 * 2) + 1)))"
      ]
    },
    {
      "cell_type": "code",
      "execution_count": 95,
      "metadata": {
        "id": "QmoKFsp49hE0"
      },
      "outputs": [],
      "source": [
        "#y_dataset = np.loadtxt(dataset, delimiter=',', dtype='int32', usecols=(0))"
      ]
    },
    {
      "cell_type": "code",
      "execution_count": 96,
      "metadata": {
        "id": "xQU7JTZ_9hE0"
      },
      "outputs": [],
      "source": [
        "#X_train, X_test, y_train, y_test = train_test_split(X_dataset, y_dataset, train_size=0.75, random_state=RANDOM_SEED)"
      ]
    },
    {
      "cell_type": "markdown",
      "metadata": {
        "id": "mxK_lETT9hE0"
      },
      "source": [
        "# Model building"
      ]
    },
    {
      "cell_type": "code",
      "execution_count": 97,
      "metadata": {
        "id": "vHBmUf1t9hE1"
      },
      "outputs": [],
      "source": [
        "#model = tf.keras.models.Sequential([\n",
        "    #tf.keras.layers.Input((21 * 2, )),\n",
        "  #  tf.keras.layers.BatchNormalization(),\n",
        "   # tf.keras.layers.Dense(128, activation='mish', kernel_regularizer=tf.keras.regularizers.l2(0.01)),\n",
        "  #  tf.keras.layers.Dropout(0.5),\n",
        "   # tf.keras.layers.Dense(64, activation='mish', kernel_regularizer=tf.keras.regularizers.l2(0.01)),\n",
        "   # tf.keras.layers.Dropout(0.5),\n",
        "  #  tf.keras.layers.Dense(32, activation='mish', kernel_regularizer=tf.keras.regularizers.l2(0.01)),\n",
        "   # tf.keras.layers.Dense(NUM_CLASSES, activation='softmax')\n",
        "#])\n"
      ]
    },
    {
      "cell_type": "code",
      "execution_count": 98,
      "metadata": {},
      "outputs": [
        {
          "data": {
            "text/html": [
              "<pre style=\"white-space:pre;overflow-x:auto;line-height:normal;font-family:Menlo,'DejaVu Sans Mono',consolas,'Courier New',monospace\"><span style=\"font-weight: bold\">Model: \"sequential_5\"</span>\n",
              "</pre>\n"
            ],
            "text/plain": [
              "\u001b[1mModel: \"sequential_5\"\u001b[0m\n"
            ]
          },
          "metadata": {},
          "output_type": "display_data"
        },
        {
          "data": {
            "text/html": [
              "<pre style=\"white-space:pre;overflow-x:auto;line-height:normal;font-family:Menlo,'DejaVu Sans Mono',consolas,'Courier New',monospace\">┏━━━━━━━━━━━━━━━━━━━━━━━━━━━━━━━━━┳━━━━━━━━━━━━━━━━━━━━━━━━┳━━━━━━━━━━━━━━━┓\n",
              "┃<span style=\"font-weight: bold\"> Layer (type)                    </span>┃<span style=\"font-weight: bold\"> Output Shape           </span>┃<span style=\"font-weight: bold\">       Param # </span>┃\n",
              "┡━━━━━━━━━━━━━━━━━━━━━━━━━━━━━━━━━╇━━━━━━━━━━━━━━━━━━━━━━━━╇━━━━━━━━━━━━━━━┩\n",
              "│ batch_normalization_5           │ (<span style=\"color: #00d7ff; text-decoration-color: #00d7ff\">None</span>, <span style=\"color: #00af00; text-decoration-color: #00af00\">42</span>)             │           <span style=\"color: #00af00; text-decoration-color: #00af00\">168</span> │\n",
              "│ (<span style=\"color: #0087ff; text-decoration-color: #0087ff\">BatchNormalization</span>)            │                        │               │\n",
              "├─────────────────────────────────┼────────────────────────┼───────────────┤\n",
              "│ dense_20 (<span style=\"color: #0087ff; text-decoration-color: #0087ff\">Dense</span>)                │ (<span style=\"color: #00d7ff; text-decoration-color: #00d7ff\">None</span>, <span style=\"color: #00af00; text-decoration-color: #00af00\">256</span>)            │        <span style=\"color: #00af00; text-decoration-color: #00af00\">11,008</span> │\n",
              "├─────────────────────────────────┼────────────────────────┼───────────────┤\n",
              "│ dropout_10 (<span style=\"color: #0087ff; text-decoration-color: #0087ff\">Dropout</span>)            │ (<span style=\"color: #00d7ff; text-decoration-color: #00d7ff\">None</span>, <span style=\"color: #00af00; text-decoration-color: #00af00\">256</span>)            │             <span style=\"color: #00af00; text-decoration-color: #00af00\">0</span> │\n",
              "├─────────────────────────────────┼────────────────────────┼───────────────┤\n",
              "│ dense_21 (<span style=\"color: #0087ff; text-decoration-color: #0087ff\">Dense</span>)                │ (<span style=\"color: #00d7ff; text-decoration-color: #00d7ff\">None</span>, <span style=\"color: #00af00; text-decoration-color: #00af00\">128</span>)            │        <span style=\"color: #00af00; text-decoration-color: #00af00\">32,896</span> │\n",
              "├─────────────────────────────────┼────────────────────────┼───────────────┤\n",
              "│ dropout_11 (<span style=\"color: #0087ff; text-decoration-color: #0087ff\">Dropout</span>)            │ (<span style=\"color: #00d7ff; text-decoration-color: #00d7ff\">None</span>, <span style=\"color: #00af00; text-decoration-color: #00af00\">128</span>)            │             <span style=\"color: #00af00; text-decoration-color: #00af00\">0</span> │\n",
              "├─────────────────────────────────┼────────────────────────┼───────────────┤\n",
              "│ dense_22 (<span style=\"color: #0087ff; text-decoration-color: #0087ff\">Dense</span>)                │ (<span style=\"color: #00d7ff; text-decoration-color: #00d7ff\">None</span>, <span style=\"color: #00af00; text-decoration-color: #00af00\">64</span>)             │         <span style=\"color: #00af00; text-decoration-color: #00af00\">8,256</span> │\n",
              "├─────────────────────────────────┼────────────────────────┼───────────────┤\n",
              "│ dense_23 (<span style=\"color: #0087ff; text-decoration-color: #0087ff\">Dense</span>)                │ (<span style=\"color: #00d7ff; text-decoration-color: #00d7ff\">None</span>, <span style=\"color: #00af00; text-decoration-color: #00af00\">28</span>)             │         <span style=\"color: #00af00; text-decoration-color: #00af00\">1,820</span> │\n",
              "└─────────────────────────────────┴────────────────────────┴───────────────┘\n",
              "</pre>\n"
            ],
            "text/plain": [
              "┏━━━━━━━━━━━━━━━━━━━━━━━━━━━━━━━━━┳━━━━━━━━━━━━━━━━━━━━━━━━┳━━━━━━━━━━━━━━━┓\n",
              "┃\u001b[1m \u001b[0m\u001b[1mLayer (type)                   \u001b[0m\u001b[1m \u001b[0m┃\u001b[1m \u001b[0m\u001b[1mOutput Shape          \u001b[0m\u001b[1m \u001b[0m┃\u001b[1m \u001b[0m\u001b[1m      Param #\u001b[0m\u001b[1m \u001b[0m┃\n",
              "┡━━━━━━━━━━━━━━━━━━━━━━━━━━━━━━━━━╇━━━━━━━━━━━━━━━━━━━━━━━━╇━━━━━━━━━━━━━━━┩\n",
              "│ batch_normalization_5           │ (\u001b[38;5;45mNone\u001b[0m, \u001b[38;5;34m42\u001b[0m)             │           \u001b[38;5;34m168\u001b[0m │\n",
              "│ (\u001b[38;5;33mBatchNormalization\u001b[0m)            │                        │               │\n",
              "├─────────────────────────────────┼────────────────────────┼───────────────┤\n",
              "│ dense_20 (\u001b[38;5;33mDense\u001b[0m)                │ (\u001b[38;5;45mNone\u001b[0m, \u001b[38;5;34m256\u001b[0m)            │        \u001b[38;5;34m11,008\u001b[0m │\n",
              "├─────────────────────────────────┼────────────────────────┼───────────────┤\n",
              "│ dropout_10 (\u001b[38;5;33mDropout\u001b[0m)            │ (\u001b[38;5;45mNone\u001b[0m, \u001b[38;5;34m256\u001b[0m)            │             \u001b[38;5;34m0\u001b[0m │\n",
              "├─────────────────────────────────┼────────────────────────┼───────────────┤\n",
              "│ dense_21 (\u001b[38;5;33mDense\u001b[0m)                │ (\u001b[38;5;45mNone\u001b[0m, \u001b[38;5;34m128\u001b[0m)            │        \u001b[38;5;34m32,896\u001b[0m │\n",
              "├─────────────────────────────────┼────────────────────────┼───────────────┤\n",
              "│ dropout_11 (\u001b[38;5;33mDropout\u001b[0m)            │ (\u001b[38;5;45mNone\u001b[0m, \u001b[38;5;34m128\u001b[0m)            │             \u001b[38;5;34m0\u001b[0m │\n",
              "├─────────────────────────────────┼────────────────────────┼───────────────┤\n",
              "│ dense_22 (\u001b[38;5;33mDense\u001b[0m)                │ (\u001b[38;5;45mNone\u001b[0m, \u001b[38;5;34m64\u001b[0m)             │         \u001b[38;5;34m8,256\u001b[0m │\n",
              "├─────────────────────────────────┼────────────────────────┼───────────────┤\n",
              "│ dense_23 (\u001b[38;5;33mDense\u001b[0m)                │ (\u001b[38;5;45mNone\u001b[0m, \u001b[38;5;34m28\u001b[0m)             │         \u001b[38;5;34m1,820\u001b[0m │\n",
              "└─────────────────────────────────┴────────────────────────┴───────────────┘\n"
            ]
          },
          "metadata": {},
          "output_type": "display_data"
        },
        {
          "data": {
            "text/html": [
              "<pre style=\"white-space:pre;overflow-x:auto;line-height:normal;font-family:Menlo,'DejaVu Sans Mono',consolas,'Courier New',monospace\"><span style=\"font-weight: bold\"> Total params: </span><span style=\"color: #00af00; text-decoration-color: #00af00\">54,148</span> (211.52 KB)\n",
              "</pre>\n"
            ],
            "text/plain": [
              "\u001b[1m Total params: \u001b[0m\u001b[38;5;34m54,148\u001b[0m (211.52 KB)\n"
            ]
          },
          "metadata": {},
          "output_type": "display_data"
        },
        {
          "data": {
            "text/html": [
              "<pre style=\"white-space:pre;overflow-x:auto;line-height:normal;font-family:Menlo,'DejaVu Sans Mono',consolas,'Courier New',monospace\"><span style=\"font-weight: bold\"> Trainable params: </span><span style=\"color: #00af00; text-decoration-color: #00af00\">54,064</span> (211.19 KB)\n",
              "</pre>\n"
            ],
            "text/plain": [
              "\u001b[1m Trainable params: \u001b[0m\u001b[38;5;34m54,064\u001b[0m (211.19 KB)\n"
            ]
          },
          "metadata": {},
          "output_type": "display_data"
        },
        {
          "data": {
            "text/html": [
              "<pre style=\"white-space:pre;overflow-x:auto;line-height:normal;font-family:Menlo,'DejaVu Sans Mono',consolas,'Courier New',monospace\"><span style=\"font-weight: bold\"> Non-trainable params: </span><span style=\"color: #00af00; text-decoration-color: #00af00\">84</span> (336.00 B)\n",
              "</pre>\n"
            ],
            "text/plain": [
              "\u001b[1m Non-trainable params: \u001b[0m\u001b[38;5;34m84\u001b[0m (336.00 B)\n"
            ]
          },
          "metadata": {},
          "output_type": "display_data"
        }
      ],
      "source": [
        "import tensorflow as tf\n",
        "\n",
        "model = tf.keras.Sequential([\n",
        "    tf.keras.layers.Input((42,)),\n",
        "    tf.keras.layers.BatchNormalization(),\n",
        "    tf.keras.layers.Dense(256, activation='relu'),\n",
        "    tf.keras.layers.Dropout(0.3),\n",
        "    tf.keras.layers.Dense(128, activation='relu'),\n",
        "    tf.keras.layers.Dropout(0.3),\n",
        "    tf.keras.layers.Dense(64, activation='relu'),\n",
        "    tf.keras.layers.Dense(len(encoder.classes_), activation='softmax')  # <-- Automatically 26 classes\n",
        "])\n",
        "\n",
        "model.compile(\n",
        "    optimizer='adam',\n",
        "    loss='sparse_categorical_crossentropy',\n",
        "    metrics=['accuracy']\n",
        ")\n",
        "\n",
        "model.summary()\n"
      ]
    },
    {
      "cell_type": "code",
      "execution_count": 99,
      "metadata": {},
      "outputs": [
        {
          "name": "stdout",
          "output_type": "stream",
          "text": [
            "Epoch 1/100\n",
            "1400/1400 - 3s - 2ms/step - accuracy: 0.8035 - loss: 0.6358 - val_accuracy: 0.9707 - val_loss: 0.1209\n",
            "Epoch 2/100\n",
            "1400/1400 - 2s - 1ms/step - accuracy: 0.9183 - loss: 0.2599 - val_accuracy: 0.9545 - val_loss: 0.1376\n",
            "Epoch 3/100\n",
            "1400/1400 - 2s - 1ms/step - accuracy: 0.9292 - loss: 0.2251 - val_accuracy: 0.9766 - val_loss: 0.0860\n",
            "Epoch 4/100\n",
            "1400/1400 - 2s - 1ms/step - accuracy: 0.9355 - loss: 0.2027 - val_accuracy: 0.9772 - val_loss: 0.0769\n",
            "Epoch 5/100\n",
            "1400/1400 - 2s - 2ms/step - accuracy: 0.9413 - loss: 0.1851 - val_accuracy: 0.9855 - val_loss: 0.0630\n",
            "Epoch 6/100\n",
            "1400/1400 - 2s - 2ms/step - accuracy: 0.9435 - loss: 0.1775 - val_accuracy: 0.9788 - val_loss: 0.0665\n",
            "Epoch 7/100\n",
            "1400/1400 - 2s - 1ms/step - accuracy: 0.9448 - loss: 0.1707 - val_accuracy: 0.9822 - val_loss: 0.0631\n",
            "Epoch 8/100\n",
            "1400/1400 - 2s - 1ms/step - accuracy: 0.9465 - loss: 0.1666 - val_accuracy: 0.9773 - val_loss: 0.0703\n",
            "Epoch 9/100\n",
            "1400/1400 - 2s - 1ms/step - accuracy: 0.9495 - loss: 0.1553 - val_accuracy: 0.9844 - val_loss: 0.0592\n",
            "Epoch 10/100\n",
            "1400/1400 - 2s - 1ms/step - accuracy: 0.9510 - loss: 0.1530 - val_accuracy: 0.9819 - val_loss: 0.0572\n",
            "Epoch 11/100\n",
            "1400/1400 - 2s - 1ms/step - accuracy: 0.9518 - loss: 0.1502 - val_accuracy: 0.9856 - val_loss: 0.0522\n",
            "Epoch 12/100\n",
            "1400/1400 - 2s - 2ms/step - accuracy: 0.9549 - loss: 0.1435 - val_accuracy: 0.9818 - val_loss: 0.0605\n",
            "Epoch 13/100\n",
            "1400/1400 - 2s - 1ms/step - accuracy: 0.9545 - loss: 0.1413 - val_accuracy: 0.9865 - val_loss: 0.0510\n",
            "Epoch 14/100\n",
            "1400/1400 - 2s - 1ms/step - accuracy: 0.9550 - loss: 0.1427 - val_accuracy: 0.9865 - val_loss: 0.0500\n",
            "Epoch 15/100\n",
            "1400/1400 - 2s - 1ms/step - accuracy: 0.9568 - loss: 0.1376 - val_accuracy: 0.9852 - val_loss: 0.0509\n",
            "Epoch 16/100\n",
            "1400/1400 - 2s - 1ms/step - accuracy: 0.9568 - loss: 0.1345 - val_accuracy: 0.9888 - val_loss: 0.0483\n",
            "Epoch 17/100\n",
            "1400/1400 - 2s - 1ms/step - accuracy: 0.9576 - loss: 0.1297 - val_accuracy: 0.9855 - val_loss: 0.0452\n",
            "Epoch 18/100\n",
            "1400/1400 - 2s - 1ms/step - accuracy: 0.9583 - loss: 0.1281 - val_accuracy: 0.9889 - val_loss: 0.0452\n",
            "Epoch 19/100\n",
            "1400/1400 - 2s - 1ms/step - accuracy: 0.9586 - loss: 0.1266 - val_accuracy: 0.9885 - val_loss: 0.0439\n",
            "Epoch 20/100\n",
            "1400/1400 - 2s - 2ms/step - accuracy: 0.9578 - loss: 0.1296 - val_accuracy: 0.9864 - val_loss: 0.0461\n",
            "Epoch 21/100\n",
            "1400/1400 - 2s - 2ms/step - accuracy: 0.9591 - loss: 0.1243 - val_accuracy: 0.9853 - val_loss: 0.0481\n",
            "Epoch 22/100\n",
            "1400/1400 - 3s - 2ms/step - accuracy: 0.9600 - loss: 0.1228 - val_accuracy: 0.9895 - val_loss: 0.0418\n",
            "Epoch 23/100\n",
            "1400/1400 - 3s - 2ms/step - accuracy: 0.9602 - loss: 0.1246 - val_accuracy: 0.9854 - val_loss: 0.0466\n",
            "Epoch 24/100\n",
            "1400/1400 - 2s - 2ms/step - accuracy: 0.9594 - loss: 0.1226 - val_accuracy: 0.9894 - val_loss: 0.0417\n",
            "Epoch 25/100\n",
            "1400/1400 - 3s - 2ms/step - accuracy: 0.9606 - loss: 0.1215 - val_accuracy: 0.9871 - val_loss: 0.0468\n",
            "Epoch 26/100\n",
            "1400/1400 - 2s - 1ms/step - accuracy: 0.9603 - loss: 0.1202 - val_accuracy: 0.9890 - val_loss: 0.0408\n",
            "Epoch 27/100\n",
            "1400/1400 - 2s - 1ms/step - accuracy: 0.9607 - loss: 0.1209 - val_accuracy: 0.9871 - val_loss: 0.0424\n",
            "Epoch 28/100\n",
            "1400/1400 - 2s - 1ms/step - accuracy: 0.9612 - loss: 0.1179 - val_accuracy: 0.9869 - val_loss: 0.0417\n",
            "Epoch 29/100\n",
            "1400/1400 - 2s - 1ms/step - accuracy: 0.9618 - loss: 0.1173 - val_accuracy: 0.9879 - val_loss: 0.0423\n",
            "Epoch 30/100\n",
            "1400/1400 - 2s - 1ms/step - accuracy: 0.9619 - loss: 0.1163 - val_accuracy: 0.9894 - val_loss: 0.0410\n",
            "Epoch 31/100\n",
            "1400/1400 - 2s - 1ms/step - accuracy: 0.9624 - loss: 0.1142 - val_accuracy: 0.9864 - val_loss: 0.0455\n",
            "Epoch 32/100\n",
            "1400/1400 - 2s - 1ms/step - accuracy: 0.9622 - loss: 0.1151 - val_accuracy: 0.9866 - val_loss: 0.0465\n",
            "Epoch 33/100\n",
            "1400/1400 - 3s - 2ms/step - accuracy: 0.9630 - loss: 0.1124 - val_accuracy: 0.9878 - val_loss: 0.0446\n",
            "Epoch 34/100\n",
            "1400/1400 - 3s - 2ms/step - accuracy: 0.9637 - loss: 0.1117 - val_accuracy: 0.9883 - val_loss: 0.0407\n",
            "Epoch 35/100\n",
            "1400/1400 - 3s - 2ms/step - accuracy: 0.9632 - loss: 0.1142 - val_accuracy: 0.9877 - val_loss: 0.0411\n",
            "Epoch 36/100\n",
            "1400/1400 - 3s - 2ms/step - accuracy: 0.9642 - loss: 0.1094 - val_accuracy: 0.9885 - val_loss: 0.0403\n",
            "Epoch 37/100\n",
            "1400/1400 - 3s - 2ms/step - accuracy: 0.9640 - loss: 0.1087 - val_accuracy: 0.9896 - val_loss: 0.0376\n",
            "Epoch 38/100\n",
            "1400/1400 - 3s - 2ms/step - accuracy: 0.9642 - loss: 0.1073 - val_accuracy: 0.9877 - val_loss: 0.0419\n",
            "Epoch 39/100\n",
            "1400/1400 - 2s - 2ms/step - accuracy: 0.9632 - loss: 0.1127 - val_accuracy: 0.9866 - val_loss: 0.0434\n",
            "Epoch 40/100\n",
            "1400/1400 - 2s - 2ms/step - accuracy: 0.9647 - loss: 0.1085 - val_accuracy: 0.9898 - val_loss: 0.0399\n",
            "Epoch 41/100\n",
            "1400/1400 - 3s - 2ms/step - accuracy: 0.9653 - loss: 0.1086 - val_accuracy: 0.9908 - val_loss: 0.0379\n",
            "Epoch 42/100\n",
            "1400/1400 - 2s - 2ms/step - accuracy: 0.9657 - loss: 0.1014 - val_accuracy: 0.9908 - val_loss: 0.0380\n",
            "Epoch 43/100\n",
            "1400/1400 - 2s - 1ms/step - accuracy: 0.9646 - loss: 0.1058 - val_accuracy: 0.9885 - val_loss: 0.0407\n",
            "Epoch 44/100\n",
            "1400/1400 - 2s - 1ms/step - accuracy: 0.9656 - loss: 0.1074 - val_accuracy: 0.9883 - val_loss: 0.0397\n",
            "Epoch 45/100\n",
            "1400/1400 - 3s - 2ms/step - accuracy: 0.9660 - loss: 0.1033 - val_accuracy: 0.9890 - val_loss: 0.0401\n",
            "Epoch 46/100\n",
            "1400/1400 - 4s - 3ms/step - accuracy: 0.9650 - loss: 0.1089 - val_accuracy: 0.9908 - val_loss: 0.0388\n",
            "Epoch 47/100\n",
            "1400/1400 - 3s - 2ms/step - accuracy: 0.9655 - loss: 0.1049 - val_accuracy: 0.9886 - val_loss: 0.0404\n",
            "Epoch 48/100\n",
            "1400/1400 - 4s - 3ms/step - accuracy: 0.9650 - loss: 0.1067 - val_accuracy: 0.9896 - val_loss: 0.0395\n",
            "Epoch 49/100\n",
            "1400/1400 - 4s - 3ms/step - accuracy: 0.9660 - loss: 0.1038 - val_accuracy: 0.9901 - val_loss: 0.0391\n",
            "Epoch 50/100\n",
            "1400/1400 - 3s - 2ms/step - accuracy: 0.9654 - loss: 0.1048 - val_accuracy: 0.9906 - val_loss: 0.0375\n",
            "Epoch 51/100\n",
            "1400/1400 - 3s - 2ms/step - accuracy: 0.9654 - loss: 0.1012 - val_accuracy: 0.9906 - val_loss: 0.0369\n",
            "Epoch 52/100\n",
            "1400/1400 - 4s - 3ms/step - accuracy: 0.9657 - loss: 0.1031 - val_accuracy: 0.9906 - val_loss: 0.0369\n",
            "Epoch 53/100\n",
            "1400/1400 - 3s - 2ms/step - accuracy: 0.9651 - loss: 0.1036 - val_accuracy: 0.9898 - val_loss: 0.0375\n",
            "Epoch 54/100\n",
            "1400/1400 - 3s - 2ms/step - accuracy: 0.9662 - loss: 0.1012 - val_accuracy: 0.9916 - val_loss: 0.0368\n",
            "Epoch 55/100\n",
            "1400/1400 - 3s - 2ms/step - accuracy: 0.9659 - loss: 0.1029 - val_accuracy: 0.9905 - val_loss: 0.0385\n",
            "Epoch 56/100\n",
            "1400/1400 - 3s - 2ms/step - accuracy: 0.9671 - loss: 0.1004 - val_accuracy: 0.9899 - val_loss: 0.0382\n",
            "Epoch 57/100\n",
            "1400/1400 - 3s - 2ms/step - accuracy: 0.9674 - loss: 0.0987 - val_accuracy: 0.9903 - val_loss: 0.0387\n",
            "Epoch 58/100\n",
            "1400/1400 - 3s - 2ms/step - accuracy: 0.9681 - loss: 0.0963 - val_accuracy: 0.9910 - val_loss: 0.0373\n",
            "Epoch 59/100\n",
            "1400/1400 - 3s - 2ms/step - accuracy: 0.9674 - loss: 0.0968 - val_accuracy: 0.9924 - val_loss: 0.0365\n",
            "Epoch 60/100\n",
            "1400/1400 - 2s - 2ms/step - accuracy: 0.9666 - loss: 0.1027 - val_accuracy: 0.9908 - val_loss: 0.0384\n",
            "Epoch 61/100\n",
            "1400/1400 - 3s - 2ms/step - accuracy: 0.9665 - loss: 0.1010 - val_accuracy: 0.9901 - val_loss: 0.0369\n",
            "Epoch 62/100\n",
            "1400/1400 - 3s - 2ms/step - accuracy: 0.9673 - loss: 0.0983 - val_accuracy: 0.9901 - val_loss: 0.0366\n",
            "Epoch 63/100\n",
            "1400/1400 - 3s - 2ms/step - accuracy: 0.9683 - loss: 0.0961 - val_accuracy: 0.9920 - val_loss: 0.0369\n",
            "Epoch 64/100\n",
            "1400/1400 - 3s - 2ms/step - accuracy: 0.9679 - loss: 0.0998 - val_accuracy: 0.9906 - val_loss: 0.0358\n",
            "Epoch 65/100\n",
            "1400/1400 - 3s - 2ms/step - accuracy: 0.9682 - loss: 0.0975 - val_accuracy: 0.9901 - val_loss: 0.0400\n",
            "Epoch 66/100\n",
            "1400/1400 - 3s - 2ms/step - accuracy: 0.9671 - loss: 0.0989 - val_accuracy: 0.9910 - val_loss: 0.0390\n",
            "Epoch 67/100\n",
            "1400/1400 - 3s - 2ms/step - accuracy: 0.9690 - loss: 0.0960 - val_accuracy: 0.9892 - val_loss: 0.0383\n",
            "Epoch 68/100\n",
            "1400/1400 - 3s - 2ms/step - accuracy: 0.9678 - loss: 0.0990 - val_accuracy: 0.9893 - val_loss: 0.0407\n",
            "Epoch 69/100\n",
            "1400/1400 - 3s - 2ms/step - accuracy: 0.9672 - loss: 0.0988 - val_accuracy: 0.9902 - val_loss: 0.0392\n",
            "Epoch 70/100\n",
            "1400/1400 - 3s - 2ms/step - accuracy: 0.9695 - loss: 0.0932 - val_accuracy: 0.9920 - val_loss: 0.0342\n",
            "Epoch 71/100\n",
            "1400/1400 - 3s - 2ms/step - accuracy: 0.9661 - loss: 0.1010 - val_accuracy: 0.9908 - val_loss: 0.0366\n",
            "Epoch 72/100\n",
            "1400/1400 - 3s - 2ms/step - accuracy: 0.9701 - loss: 0.0948 - val_accuracy: 0.9882 - val_loss: 0.0411\n",
            "Epoch 73/100\n",
            "1400/1400 - 3s - 2ms/step - accuracy: 0.9681 - loss: 0.0963 - val_accuracy: 0.9890 - val_loss: 0.0384\n",
            "Epoch 74/100\n",
            "1400/1400 - 3s - 2ms/step - accuracy: 0.9684 - loss: 0.0960 - val_accuracy: 0.9895 - val_loss: 0.0393\n",
            "Epoch 75/100\n",
            "1400/1400 - 3s - 2ms/step - accuracy: 0.9710 - loss: 0.0890 - val_accuracy: 0.9915 - val_loss: 0.0342\n",
            "Epoch 76/100\n",
            "1400/1400 - 3s - 2ms/step - accuracy: 0.9693 - loss: 0.0950 - val_accuracy: 0.9891 - val_loss: 0.0360\n",
            "Epoch 77/100\n",
            "1400/1400 - 3s - 2ms/step - accuracy: 0.9678 - loss: 0.0976 - val_accuracy: 0.9903 - val_loss: 0.0379\n",
            "Epoch 78/100\n",
            "1400/1400 - 3s - 2ms/step - accuracy: 0.9685 - loss: 0.0959 - val_accuracy: 0.9908 - val_loss: 0.0346\n",
            "Epoch 79/100\n",
            "1400/1400 - 3s - 2ms/step - accuracy: 0.9681 - loss: 0.0940 - val_accuracy: 0.9904 - val_loss: 0.0375\n",
            "Epoch 80/100\n",
            "1400/1400 - 3s - 2ms/step - accuracy: 0.9693 - loss: 0.0944 - val_accuracy: 0.9894 - val_loss: 0.0374\n",
            "Epoch 81/100\n",
            "1400/1400 - 3s - 2ms/step - accuracy: 0.9689 - loss: 0.0956 - val_accuracy: 0.9894 - val_loss: 0.0378\n",
            "Epoch 82/100\n",
            "1400/1400 - 3s - 2ms/step - accuracy: 0.9681 - loss: 0.0966 - val_accuracy: 0.9905 - val_loss: 0.0360\n",
            "Epoch 83/100\n",
            "1400/1400 - 3s - 2ms/step - accuracy: 0.9705 - loss: 0.0905 - val_accuracy: 0.9906 - val_loss: 0.0338\n",
            "Epoch 84/100\n",
            "1400/1400 - 3s - 2ms/step - accuracy: 0.9703 - loss: 0.0921 - val_accuracy: 0.9927 - val_loss: 0.0317\n",
            "Epoch 85/100\n",
            "1400/1400 - 3s - 2ms/step - accuracy: 0.9681 - loss: 0.0960 - val_accuracy: 0.9907 - val_loss: 0.0354\n",
            "Epoch 86/100\n",
            "1400/1400 - 3s - 2ms/step - accuracy: 0.9680 - loss: 0.0991 - val_accuracy: 0.9906 - val_loss: 0.0356\n",
            "Epoch 87/100\n",
            "1400/1400 - 3s - 2ms/step - accuracy: 0.9701 - loss: 0.0906 - val_accuracy: 0.9919 - val_loss: 0.0331\n",
            "Epoch 88/100\n",
            "1400/1400 - 2s - 1ms/step - accuracy: 0.9694 - loss: 0.0958 - val_accuracy: 0.9922 - val_loss: 0.0334\n",
            "Epoch 89/100\n",
            "1400/1400 - 2s - 1ms/step - accuracy: 0.9705 - loss: 0.0908 - val_accuracy: 0.9914 - val_loss: 0.0353\n",
            "Epoch 90/100\n",
            "1400/1400 - 2s - 1ms/step - accuracy: 0.9701 - loss: 0.0896 - val_accuracy: 0.9916 - val_loss: 0.0355\n",
            "Epoch 91/100\n",
            "1400/1400 - 2s - 1ms/step - accuracy: 0.9696 - loss: 0.0924 - val_accuracy: 0.9887 - val_loss: 0.0426\n",
            "Epoch 92/100\n",
            "1400/1400 - 2s - 1ms/step - accuracy: 0.9711 - loss: 0.0862 - val_accuracy: 0.9905 - val_loss: 0.0358\n",
            "Epoch 93/100\n",
            "1400/1400 - 2s - 1ms/step - accuracy: 0.9694 - loss: 0.0940 - val_accuracy: 0.9922 - val_loss: 0.0361\n",
            "Epoch 94/100\n",
            "1400/1400 - 2s - 1ms/step - accuracy: 0.9700 - loss: 0.0908 - val_accuracy: 0.9889 - val_loss: 0.0383\n",
            "Epoch 95/100\n",
            "1400/1400 - 2s - 1ms/step - accuracy: 0.9706 - loss: 0.0919 - val_accuracy: 0.9917 - val_loss: 0.0350\n",
            "Epoch 96/100\n",
            "1400/1400 - 2s - 1ms/step - accuracy: 0.9700 - loss: 0.0904 - val_accuracy: 0.9917 - val_loss: 0.0350\n",
            "Epoch 97/100\n",
            "1400/1400 - 2s - 1ms/step - accuracy: 0.9712 - loss: 0.0890 - val_accuracy: 0.9914 - val_loss: 0.0331\n",
            "Epoch 98/100\n",
            "1400/1400 - 2s - 1ms/step - accuracy: 0.9706 - loss: 0.0899 - val_accuracy: 0.9920 - val_loss: 0.0312\n",
            "Epoch 99/100\n",
            "1400/1400 - 2s - 1ms/step - accuracy: 0.9700 - loss: 0.0907 - val_accuracy: 0.9923 - val_loss: 0.0320\n",
            "Epoch 100/100\n",
            "1400/1400 - 2s - 1ms/step - accuracy: 0.9715 - loss: 0.0903 - val_accuracy: 0.9925 - val_loss: 0.0329\n"
          ]
        }
      ],
      "source": [
        "history = model.fit(\n",
        "    X_train,\n",
        "    y_train,\n",
        "    epochs=100,\n",
        "    batch_size=32,\n",
        "    validation_data=(X_test, y_test),\n",
        "    verbose=2\n",
        ")\n"
      ]
    },
    {
      "cell_type": "code",
      "execution_count": 100,
      "metadata": {
        "colab": {
          "base_uri": "https://localhost:8080/"
        },
        "id": "ypqky9tc9hE1",
        "outputId": "5db082bb-30e3-4110-bf63-a1ee777ecd46"
      },
      "outputs": [],
      "source": [
        "#model.summary()  # tf.keras.utils.plot_model(model, show_shapes=True)"
      ]
    },
    {
      "cell_type": "code",
      "execution_count": 101,
      "metadata": {
        "id": "MbMjOflQ9hE1"
      },
      "outputs": [],
      "source": [
        "# Model checkpoint callback\n",
        "#cp_callback = tf.keras.callbacks.ModelCheckpoint(\n",
        "    #model_save_path, verbose=1, save_weights_only=False)\n",
        "# Callback for early stopping\n",
        "#es_callback = tf.keras.callbacks.EarlyStopping(patience=20, verbose=1)"
      ]
    },
    {
      "cell_type": "code",
      "execution_count": 102,
      "metadata": {
        "id": "c3Dac0M_9hE2"
      },
      "outputs": [],
      "source": [
        "# Model compilation\n",
        "#model.compile(\n",
        "    #optimizer='Adam',\n",
        "    #loss='sparse_categorical_crossentropy',\n",
        "   # metrics=['accuracy']\n",
        "#)"
      ]
    },
    {
      "cell_type": "code",
      "execution_count": 103,
      "metadata": {},
      "outputs": [
        {
          "name": "stderr",
          "output_type": "stream",
          "text": [
            "WARNING:absl:You are saving your model as an HDF5 file via `model.save()` or `keras.saving.save_model(model)`. This file format is considered legacy. We recommend using instead the native Keras format, e.g. `model.save('my_model.keras')` or `keras.saving.save_model(model, 'my_model.keras')`. \n"
          ]
        }
      ],
      "source": [
        "model.save('new_hand_model.h5')\n"
      ]
    },
    {
      "cell_type": "markdown",
      "metadata": {
        "id": "7XI0j1Iu9hE2"
      },
      "source": [
        "# Model training"
      ]
    },
    {
      "cell_type": "code",
      "execution_count": 104,
      "metadata": {
        "colab": {
          "base_uri": "https://localhost:8080/"
        },
        "id": "WirBl-JE9hE3",
        "outputId": "71b30ca2-8294-4d9d-8aa2-800d90d399de",
        "scrolled": true
      },
      "outputs": [],
      "source": [
        "#model.fit(\n",
        "   # X_train,\n",
        "   # y_train,\n",
        "    #epochs=1000,\n",
        "   # batch_size=128,\n",
        "    #validation_data=(X_test, y_test),\n",
        "   # callbacks=[cp_callback, es_callback]\n",
        "#)"
      ]
    },
    {
      "cell_type": "code",
      "execution_count": 105,
      "metadata": {
        "colab": {
          "base_uri": "https://localhost:8080/"
        },
        "id": "pxvb2Y299hE3",
        "outputId": "59eb3185-2e37-4b9e-bc9d-ab1b8ac29b7f"
      },
      "outputs": [
        {
          "name": "stdout",
          "output_type": "stream",
          "text": [
            "\u001b[1m467/467\u001b[0m \u001b[32m━━━━━━━━━━━━━━━━━━━━\u001b[0m\u001b[37m\u001b[0m \u001b[1m0s\u001b[0m 805us/step - accuracy: 0.9925 - loss: 0.0317\n",
            "Validation Accuracy: 99.25%\n"
          ]
        }
      ],
      "source": [
        "# Model evaluation\n",
        "val_loss, val_acc = model.evaluate(X_test, y_test)\n",
        "print(f\"Validation Accuracy: {val_acc * 100:.2f}%\")\n"
      ]
    },
    {
      "cell_type": "code",
      "execution_count": 106,
      "metadata": {
        "id": "RBkmDeUW9hE4"
      },
      "outputs": [],
      "source": [
        "# Loading the saved model\n",
        "#model = tf.keras.models.load_model(model_save_path)"
      ]
    },
    {
      "cell_type": "code",
      "execution_count": 107,
      "metadata": {
        "colab": {
          "base_uri": "https://localhost:8080/"
        },
        "id": "tFz9Tb0I9hE4",
        "outputId": "1c3b3528-54ae-4ee2-ab04-77429211cbef"
      },
      "outputs": [],
      "source": [
        "# Inference test\n",
        "#predict_result = model.predict(np.array([X_test[0]]))\n",
        "\n",
        "#print(np.squeeze(predict_result))\n",
        "#print(np.argmax(np.squeeze(predict_result)))"
      ]
    },
    {
      "cell_type": "markdown",
      "metadata": {
        "id": "S3U4yNWx9hE4"
      },
      "source": [
        "# Confusion matrix"
      ]
    },
    {
      "cell_type": "code",
      "execution_count": 108,
      "metadata": {
        "colab": {
          "base_uri": "https://localhost:8080/",
          "height": 582
        },
        "id": "AP1V6SCk9hE5",
        "outputId": "08e41a80-7a4a-4619-8125-ecc371368d19"
      },
      "outputs": [
        {
          "name": "stdout",
          "output_type": "stream",
          "text": [
            "\u001b[1m467/467\u001b[0m \u001b[32m━━━━━━━━━━━━━━━━━━━━\u001b[0m\u001b[37m\u001b[0m \u001b[1m0s\u001b[0m 659us/step\n"
          ]
        },
        {
          "data": {
            "image/png": "[encoded data removed]",
            "text/plain": [
              "<Figure size 800x600 with 2 Axes>"
            ]
          },
          "metadata": {},
          "output_type": "display_data"
        }
      ],
      "source": [
        "def plot_confusion_matrix(y_true, y_pred, classes):\n",
        "    cm = confusion_matrix(y_true, y_pred)\n",
        "    plt.figure(figsize=(8, 6))\n",
        "    sns.heatmap(cm, annot=True, fmt='d', cmap='Blues', xticklabels=classes, yticklabels=classes)\n",
        "    plt.xlabel('Predicted')\n",
        "    plt.ylabel('True')\n",
        "    plt.show()\n",
        "\n",
        "# Predict on test set\n",
        "y_pred = np.argmax(model.predict(X_test), axis=1)\n",
        "\n",
        "# Plot confusion matrix\n",
        "plot_confusion_matrix(y_test, y_pred, encoder.classes_)\n"
      ]
    },
    {
      "cell_type": "markdown",
      "metadata": {
        "id": "FNP6aqzc9hE5"
      },
      "source": [
        "# Convert to model for Tensorflow-Lite"
      ]
    },
    {
      "cell_type": "code",
      "execution_count": 109,
      "metadata": {
        "id": "ODjnYyld9hE6"
      },
      "outputs": [],
      "source": [
        "# Save as a model dedicated to inference\n",
        "#model.save('keypoint_classifier.h5')\n",
        "\n",
        "#model.save('new_hand_model.h5')\n"
      ]
    },
    {
      "cell_type": "code",
      "execution_count": null,
      "metadata": {},
      "outputs": [],
      "source": []
    },
    {
      "cell_type": "code",
      "execution_count": 110,
      "metadata": {
        "colab": {
          "base_uri": "https://localhost:8080/"
        },
        "id": "zRfuK8Y59hE6",
        "outputId": "a4ca585c-b5d5-4244-8291-8674063209bb"
      },
      "outputs": [],
      "source": [
        "# Transform model (quantization)\n",
        "\n",
        "#converter = tf.lite.TFLiteConverter.from_keras_model(model)\n",
        "#converter.optimizations = [tf.lite.Optimize.DEFAULT]\n",
        "#tflite_quantized_model = converter.convert()\n",
        "\n",
        "#open(tflite_save_path, 'wb').write(tflite_quantized_model)"
      ]
    },
    {
      "cell_type": "markdown",
      "metadata": {
        "id": "CHBPBXdx9hE6"
      },
      "source": [
        "# Inference test"
      ]
    },
    {
      "cell_type": "code",
      "execution_count": 111,
      "metadata": {
        "id": "mGAzLocO9hE7"
      },
      "outputs": [],
      "source": [
        "#interpreter = tf.lite.Interpreter(model_path=tflite_save_path)\n",
        "#interpreter.allocate_tensors()"
      ]
    },
    {
      "cell_type": "code",
      "execution_count": 112,
      "metadata": {
        "id": "oQuDK8YS9hE7"
      },
      "outputs": [],
      "source": [
        "# Get I / O tensor\n",
        "#input_details = interpreter.get_input_details()\n",
        "#output_details = interpreter.get_output_details()"
      ]
    },
    {
      "cell_type": "code",
      "execution_count": 113,
      "metadata": {
        "id": "2_ixAf_l9hE7"
      },
      "outputs": [],
      "source": [
        "#interpreter.set_tensor(input_details[0]['index'], np.array([X_test[0]]))"
      ]
    },
    {
      "cell_type": "code",
      "execution_count": 114,
      "metadata": {
        "colab": {
          "base_uri": "https://localhost:8080/"
        },
        "id": "s4FoAnuc9hE7",
        "outputId": "91f18257-8d8b-4ef3-c558-e9b5f94fabbf",
        "scrolled": true
      },
      "outputs": [],
      "source": [
        "#%%time\n",
        "# Inference implementation\n",
        "#interpreter.invoke()\n",
        "#tflite_results = interpreter.get_tensor(output_details[0]['index'])"
      ]
    },
    {
      "cell_type": "code",
      "execution_count": 115,
      "metadata": {
        "colab": {
          "base_uri": "https://localhost:8080/"
        },
        "id": "vONjp19J9hE8",
        "outputId": "77205e24-fd00-42c4-f7b6-e06e527c2cba"
      },
      "outputs": [],
      "source": [
        "#print(np.squeeze(tflite_results))\n",
        "#print(np.argmax(np.squeeze(tflite_results)))"
      ]
    }
  ],
  "metadata": {
    "accelerator": "GPU",
    "colab": {
      "collapsed_sections": [],
      "name": "keypoint_classification_EN.ipynb",
      "provenance": [],
      "toc_visible": true
    },
    "kernelspec": {
      "display_name": "Python 3",
      "language": "python",
      "name": "python3"
    },
    "language_info": {
      "codemirror_mode": {
        "name": "ipython",
        "version": 3
      },
      "file_extension": ".py",
      "mimetype": "text/x-python",
      "name": "python",
      "nbconvert_exporter": "python",
      "pygments_lexer": "ipython3",
      "version": "3.9.6"
    }
  },
  "nbformat": 4,
  "nbformat_minor": 0
}
